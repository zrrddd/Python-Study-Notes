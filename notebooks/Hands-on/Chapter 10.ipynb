{
 "cells": [
  {
   "cell_type": "code",
   "execution_count": 95,
   "metadata": {
    "scrolled": true
   },
   "outputs": [],
   "source": [
    "import numpy as np\n",
    "from sklearn.datasets import load_iris\n",
    "from sklearn.linear_model import Perceptron"
   ]
  },
  {
   "cell_type": "code",
   "execution_count": 96,
   "metadata": {},
   "outputs": [],
   "source": [
    "import pandas as pd"
   ]
  },
  {
   "cell_type": "code",
   "execution_count": 97,
   "metadata": {},
   "outputs": [],
   "source": [
    "iris = load_iris()\n",
    "X = iris.data[:, (2, 3)]\n",
    "y = (iris.target == 0).astype(np.int)\n"
   ]
  },
  {
   "cell_type": "code",
   "execution_count": 98,
   "metadata": {},
   "outputs": [],
   "source": [
    "per_clf = Perceptron()"
   ]
  },
  {
   "cell_type": "code",
   "execution_count": 99,
   "metadata": {},
   "outputs": [
    {
     "data": {
      "text/plain": [
       "Perceptron()"
      ]
     },
     "execution_count": 99,
     "metadata": {},
     "output_type": "execute_result"
    }
   ],
   "source": [
    "per_clf.fit(X, y)"
   ]
  },
  {
   "cell_type": "code",
   "execution_count": 100,
   "metadata": {},
   "outputs": [
    {
     "data": {
      "text/plain": [
       "array([0])"
      ]
     },
     "execution_count": 100,
     "metadata": {},
     "output_type": "execute_result"
    }
   ],
   "source": [
    "y_pred = per_clf.predict([[2, 0.5]])\n",
    "y_pred"
   ]
  },
  {
   "cell_type": "markdown",
   "metadata": {},
   "source": [
    "# TensorFlow"
   ]
  },
  {
   "cell_type": "code",
   "execution_count": 101,
   "metadata": {},
   "outputs": [],
   "source": [
    "import tensorflow as tf\n",
    "from tensorflow import keras"
   ]
  },
  {
   "cell_type": "markdown",
   "metadata": {},
   "source": [
    "## Fashion MNIST"
   ]
  },
  {
   "cell_type": "markdown",
   "metadata": {},
   "source": [
    "### Load the data"
   ]
  },
  {
   "cell_type": "code",
   "execution_count": 102,
   "metadata": {},
   "outputs": [],
   "source": [
    "fashion_mnist = keras.datasets.fashion_mnist\n",
    "(X_train_full, y_train_full), (X_test, y_test) = fashion_mnist.load_data()"
   ]
  },
  {
   "cell_type": "code",
   "execution_count": 103,
   "metadata": {},
   "outputs": [
    {
     "data": {
      "text/plain": [
       "(60000, 28, 28)"
      ]
     },
     "execution_count": 103,
     "metadata": {},
     "output_type": "execute_result"
    }
   ],
   "source": [
    "X_train_full.shape"
   ]
  },
  {
   "cell_type": "code",
   "execution_count": 104,
   "metadata": {},
   "outputs": [
    {
     "data": {
      "text/plain": [
       "dtype('uint8')"
      ]
     },
     "execution_count": 104,
     "metadata": {},
     "output_type": "execute_result"
    }
   ],
   "source": [
    "X_train_full.dtype"
   ]
  },
  {
   "cell_type": "code",
   "execution_count": 105,
   "metadata": {},
   "outputs": [],
   "source": [
    "X_valid, X_train = X_train_full[:5000]/255.0, X_train_full[5000:]/255.0\n",
    "y_valid, y_train = y_train_full[:5000], y_train_full[5000:]"
   ]
  },
  {
   "cell_type": "code",
   "execution_count": 106,
   "metadata": {},
   "outputs": [],
   "source": [
    "class_names = [\n",
    "    'T-shirt/top',\n",
    "    'Trouser',\n",
    "    'Pullover',\n",
    "    'Dress',\n",
    "    'Coat',\n",
    "    'Sandal',\n",
    "    'Shirt',\n",
    "    'Sneaker',\n",
    "    'Bag',\n",
    "    'Ankel boot'\n",
    "]"
   ]
  },
  {
   "cell_type": "code",
   "execution_count": 107,
   "metadata": {},
   "outputs": [
    {
     "data": {
      "text/plain": [
       "'Coat'"
      ]
     },
     "execution_count": 107,
     "metadata": {},
     "output_type": "execute_result"
    }
   ],
   "source": [
    "class_names[y_train[0]]"
   ]
  },
  {
   "cell_type": "markdown",
   "metadata": {},
   "source": [
    "### Building a Classification MLP Using the Sequential API"
   ]
  },
  {
   "cell_type": "markdown",
   "metadata": {},
   "source": [
    "Here is a classification MLP with two hidden layers"
   ]
  },
  {
   "cell_type": "code",
   "execution_count": 108,
   "metadata": {},
   "outputs": [],
   "source": [
    "model = keras.models.Sequential()"
   ]
  },
  {
   "cell_type": "code",
   "execution_count": 109,
   "metadata": {},
   "outputs": [],
   "source": [
    "model.add(keras.layers.Flatten(input_shape = [28, 28])) #Reshape input\n",
    "model.add(keras.layers.Dense(300, activation = 'relu')) #First hidden layer, use 300 neurons\n",
    "model.add(keras.layers.Dense(100, activation='relu'))\n",
    "model.add(keras.layers.Dense(10, activation = 'softmax')) #Ten classes so we use 10 neurons"
   ]
  },
  {
   "cell_type": "code",
   "execution_count": 110,
   "metadata": {},
   "outputs": [],
   "source": [
    "# 或者你也可以在创建的时候就加上\n",
    "model = keras.models.Sequential([\n",
    "    keras.layers.Flatten(input_shape=[28,28]),\n",
    "    keras.layers.Dense(300, activation = 'relu'),\n",
    "    keras.layers.Dense(100, activation='relu'),\n",
    "    keras.layers.Dense(10, activation = 'softmax')\n",
    "])"
   ]
  },
  {
   "cell_type": "code",
   "execution_count": 111,
   "metadata": {},
   "outputs": [
    {
     "name": "stdout",
     "output_type": "stream",
     "text": [
      "Model: \"sequential_5\"\n",
      "_________________________________________________________________\n",
      "Layer (type)                 Output Shape              Param #   \n",
      "=================================================================\n",
      "flatten_3 (Flatten)          (None, 784)               0         \n",
      "_________________________________________________________________\n",
      "dense_22 (Dense)             (None, 300)               235500    \n",
      "_________________________________________________________________\n",
      "dense_23 (Dense)             (None, 100)               30100     \n",
      "_________________________________________________________________\n",
      "dense_24 (Dense)             (None, 10)                1010      \n",
      "=================================================================\n",
      "Total params: 266,610\n",
      "Trainable params: 266,610\n",
      "Non-trainable params: 0\n",
      "_________________________________________________________________\n"
     ]
    }
   ],
   "source": [
    "# Get the info of this ANN\n",
    "model.summary()"
   ]
  },
  {
   "cell_type": "code",
   "execution_count": 112,
   "metadata": {},
   "outputs": [
    {
     "ename": "ValueError",
     "evalue": "No such layer: dense_3.",
     "output_type": "error",
     "traceback": [
      "\u001b[0;31m---------------------------------------------------------------------------\u001b[0m",
      "\u001b[0;31mValueError\u001b[0m                                Traceback (most recent call last)",
      "\u001b[0;32m<ipython-input-112-d2838d23409d>\u001b[0m in \u001b[0;36m<module>\u001b[0;34m\u001b[0m\n\u001b[1;32m      1\u001b[0m \u001b[0;31m# you can get the layer by calling its name\u001b[0m\u001b[0;34m\u001b[0m\u001b[0;34m\u001b[0m\u001b[0;34m\u001b[0m\u001b[0m\n\u001b[0;32m----> 2\u001b[0;31m \u001b[0mhidden1\u001b[0m \u001b[0;34m=\u001b[0m \u001b[0mmodel\u001b[0m\u001b[0;34m.\u001b[0m\u001b[0mget_layer\u001b[0m\u001b[0;34m(\u001b[0m\u001b[0;34m'dense_3'\u001b[0m\u001b[0;34m)\u001b[0m\u001b[0;34m\u001b[0m\u001b[0;34m\u001b[0m\u001b[0m\n\u001b[0m\u001b[1;32m      3\u001b[0m \u001b[0mhidden1\u001b[0m\u001b[0;34m\u001b[0m\u001b[0;34m\u001b[0m\u001b[0m\n",
      "\u001b[0;32m~/Library/Python/3.8/lib/python/site-packages/tensorflow/python/keras/engine/training.py\u001b[0m in \u001b[0;36mget_layer\u001b[0;34m(self, name, index)\u001b[0m\n\u001b[1;32m   2396\u001b[0m         \u001b[0;32mif\u001b[0m \u001b[0mlayer\u001b[0m\u001b[0;34m.\u001b[0m\u001b[0mname\u001b[0m \u001b[0;34m==\u001b[0m \u001b[0mname\u001b[0m\u001b[0;34m:\u001b[0m\u001b[0;34m\u001b[0m\u001b[0;34m\u001b[0m\u001b[0m\n\u001b[1;32m   2397\u001b[0m           \u001b[0;32mreturn\u001b[0m \u001b[0mlayer\u001b[0m\u001b[0;34m\u001b[0m\u001b[0;34m\u001b[0m\u001b[0m\n\u001b[0;32m-> 2398\u001b[0;31m       \u001b[0;32mraise\u001b[0m \u001b[0mValueError\u001b[0m\u001b[0;34m(\u001b[0m\u001b[0;34m'No such layer: '\u001b[0m \u001b[0;34m+\u001b[0m \u001b[0mname\u001b[0m \u001b[0;34m+\u001b[0m \u001b[0;34m'.'\u001b[0m\u001b[0;34m)\u001b[0m\u001b[0;34m\u001b[0m\u001b[0;34m\u001b[0m\u001b[0m\n\u001b[0m\u001b[1;32m   2399\u001b[0m     \u001b[0;32mraise\u001b[0m \u001b[0mValueError\u001b[0m\u001b[0;34m(\u001b[0m\u001b[0;34m'Provide either a layer name or layer index.'\u001b[0m\u001b[0;34m)\u001b[0m\u001b[0;34m\u001b[0m\u001b[0;34m\u001b[0m\u001b[0m\n\u001b[1;32m   2400\u001b[0m \u001b[0;34m\u001b[0m\u001b[0m\n",
      "\u001b[0;31mValueError\u001b[0m: No such layer: dense_3."
     ]
    }
   ],
   "source": [
    "# you can get the layer by calling its name\n",
    "# hidden1 = model.get_layer('de')\n",
    "# hidden1"
   ]
  },
  {
   "cell_type": "code",
   "execution_count": 113,
   "metadata": {},
   "outputs": [
    {
     "ename": "AttributeError",
     "evalue": "'Tensor' object has no attribute 'get_weights'",
     "output_type": "error",
     "traceback": [
      "\u001b[0;31m---------------------------------------------------------------------------\u001b[0m",
      "\u001b[0;31mAttributeError\u001b[0m                            Traceback (most recent call last)",
      "\u001b[0;32m<ipython-input-113-c0e5f9abdc9d>\u001b[0m in \u001b[0;36m<module>\u001b[0;34m\u001b[0m\n\u001b[0;32m----> 1\u001b[0;31m \u001b[0mweights\u001b[0m\u001b[0;34m,\u001b[0m \u001b[0mbiases\u001b[0m \u001b[0;34m=\u001b[0m \u001b[0mhidden1\u001b[0m\u001b[0;34m.\u001b[0m\u001b[0mget_weights\u001b[0m\u001b[0;34m(\u001b[0m\u001b[0;34m)\u001b[0m\u001b[0;34m\u001b[0m\u001b[0;34m\u001b[0m\u001b[0m\n\u001b[0m",
      "\u001b[0;31mAttributeError\u001b[0m: 'Tensor' object has no attribute 'get_weights'"
     ]
    }
   ],
   "source": [
    "# weights, biases = hidden1.get_weights()"
   ]
  },
  {
   "cell_type": "code",
   "execution_count": 30,
   "metadata": {},
   "outputs": [
    {
     "data": {
      "text/plain": [
       "array([[-0.0604257 , -0.03786273, -0.05878977, ..., -0.01505605,\n",
       "        -0.01790915,  0.02219024],\n",
       "       [ 0.03438316, -0.00327522,  0.05497454, ..., -0.04825617,\n",
       "        -0.05132599,  0.05818649],\n",
       "       [-0.06383337, -0.01677889,  0.02641886, ..., -0.00856581,\n",
       "        -0.05407681,  0.06933144],\n",
       "       ...,\n",
       "       [-0.03924997,  0.0427215 ,  0.01446183, ...,  0.04469052,\n",
       "         0.03279667,  0.00897732],\n",
       "       [-0.02633975, -0.06674717, -0.06679764, ..., -0.01677327,\n",
       "        -0.03378034,  0.05603741],\n",
       "       [ 0.03557319, -0.06827693, -0.00382169, ..., -0.01169978,\n",
       "        -0.06254911, -0.00526433]], dtype=float32)"
      ]
     },
     "execution_count": 30,
     "metadata": {},
     "output_type": "execute_result"
    }
   ],
   "source": [
    "# weights"
   ]
  },
  {
   "cell_type": "code",
   "execution_count": 31,
   "metadata": {},
   "outputs": [
    {
     "data": {
      "text/plain": [
       "(784, 300)"
      ]
     },
     "execution_count": 31,
     "metadata": {},
     "output_type": "execute_result"
    }
   ],
   "source": [
    "# weights.shape\n",
    "# 300 neurons, each one 你 initialize 一个系数"
   ]
  },
  {
   "cell_type": "code",
   "execution_count": 32,
   "metadata": {},
   "outputs": [
    {
     "data": {
      "text/plain": [
       "array([0., 0., 0., 0., 0., 0., 0., 0., 0., 0., 0., 0., 0., 0., 0., 0., 0.,\n",
       "       0., 0., 0., 0., 0., 0., 0., 0., 0., 0., 0., 0., 0., 0., 0., 0., 0.,\n",
       "       0., 0., 0., 0., 0., 0., 0., 0., 0., 0., 0., 0., 0., 0., 0., 0., 0.,\n",
       "       0., 0., 0., 0., 0., 0., 0., 0., 0., 0., 0., 0., 0., 0., 0., 0., 0.,\n",
       "       0., 0., 0., 0., 0., 0., 0., 0., 0., 0., 0., 0., 0., 0., 0., 0., 0.,\n",
       "       0., 0., 0., 0., 0., 0., 0., 0., 0., 0., 0., 0., 0., 0., 0., 0., 0.,\n",
       "       0., 0., 0., 0., 0., 0., 0., 0., 0., 0., 0., 0., 0., 0., 0., 0., 0.,\n",
       "       0., 0., 0., 0., 0., 0., 0., 0., 0., 0., 0., 0., 0., 0., 0., 0., 0.,\n",
       "       0., 0., 0., 0., 0., 0., 0., 0., 0., 0., 0., 0., 0., 0., 0., 0., 0.,\n",
       "       0., 0., 0., 0., 0., 0., 0., 0., 0., 0., 0., 0., 0., 0., 0., 0., 0.,\n",
       "       0., 0., 0., 0., 0., 0., 0., 0., 0., 0., 0., 0., 0., 0., 0., 0., 0.,\n",
       "       0., 0., 0., 0., 0., 0., 0., 0., 0., 0., 0., 0., 0., 0., 0., 0., 0.,\n",
       "       0., 0., 0., 0., 0., 0., 0., 0., 0., 0., 0., 0., 0., 0., 0., 0., 0.,\n",
       "       0., 0., 0., 0., 0., 0., 0., 0., 0., 0., 0., 0., 0., 0., 0., 0., 0.,\n",
       "       0., 0., 0., 0., 0., 0., 0., 0., 0., 0., 0., 0., 0., 0., 0., 0., 0.,\n",
       "       0., 0., 0., 0., 0., 0., 0., 0., 0., 0., 0., 0., 0., 0., 0., 0., 0.,\n",
       "       0., 0., 0., 0., 0., 0., 0., 0., 0., 0., 0., 0., 0., 0., 0., 0., 0.,\n",
       "       0., 0., 0., 0., 0., 0., 0., 0., 0., 0., 0.], dtype=float32)"
      ]
     },
     "execution_count": 32,
     "metadata": {},
     "output_type": "execute_result"
    }
   ],
   "source": [
    "# biases"
   ]
  },
  {
   "cell_type": "code",
   "execution_count": 33,
   "metadata": {},
   "outputs": [
    {
     "data": {
      "text/plain": [
       "(300,)"
      ]
     },
     "execution_count": 33,
     "metadata": {},
     "output_type": "execute_result"
    }
   ],
   "source": [
    "# biases.shape\n",
    "# 300 neurons, each one 你 initialize 一个系数"
   ]
  },
  {
   "cell_type": "code",
   "execution_count": 34,
   "metadata": {},
   "outputs": [],
   "source": [
    "# Compiling the model\n",
    "# After a model is created, you must call its compile() method to specify the loss function and the optimizer to use"
   ]
  },
  {
   "cell_type": "code",
   "execution_count": 114,
   "metadata": {},
   "outputs": [],
   "source": [
    "model.compile(loss = 'sparse_categorical_crossentropy',\n",
    "              optimizer='sgd', \n",
    "              metrics = ['accuracy'])\n",
    "# Use sparse_categorical_crossentropy here becuase we are during multiclass classifier\n",
    "# If you are doing multilabel classifier, you should use 'binary_crossentropy', and sigmoid as activation function"
   ]
  },
  {
   "cell_type": "markdown",
   "metadata": {},
   "source": [
    "### Training and evaluating the model"
   ]
  },
  {
   "cell_type": "code",
   "execution_count": 115,
   "metadata": {},
   "outputs": [
    {
     "name": "stdout",
     "output_type": "stream",
     "text": [
      "Epoch 1/30\n",
      "1719/1719 [==============================] - 2s 1ms/step - loss: 0.7208 - accuracy: 0.7614 - val_loss: 0.5126 - val_accuracy: 0.8262\n",
      "Epoch 2/30\n",
      "1719/1719 [==============================] - 2s 1ms/step - loss: 0.4869 - accuracy: 0.8300 - val_loss: 0.4414 - val_accuracy: 0.8516\n",
      "Epoch 3/30\n",
      "1719/1719 [==============================] - 2s 1ms/step - loss: 0.4433 - accuracy: 0.8448 - val_loss: 0.4232 - val_accuracy: 0.8540\n",
      "Epoch 4/30\n",
      "1719/1719 [==============================] - 2s 1ms/step - loss: 0.4160 - accuracy: 0.8555 - val_loss: 0.4117 - val_accuracy: 0.8540\n",
      "Epoch 5/30\n",
      "1719/1719 [==============================] - 2s 1ms/step - loss: 0.3953 - accuracy: 0.8616 - val_loss: 0.3981 - val_accuracy: 0.8630\n",
      "Epoch 6/30\n",
      "1719/1719 [==============================] - 2s 1ms/step - loss: 0.3801 - accuracy: 0.8663 - val_loss: 0.3846 - val_accuracy: 0.8664\n",
      "Epoch 7/30\n",
      "1719/1719 [==============================] - 2s 1ms/step - loss: 0.3668 - accuracy: 0.8700 - val_loss: 0.3718 - val_accuracy: 0.8698\n",
      "Epoch 8/30\n",
      "1719/1719 [==============================] - 2s 1ms/step - loss: 0.3549 - accuracy: 0.8742 - val_loss: 0.3757 - val_accuracy: 0.8696\n",
      "Epoch 9/30\n",
      "1719/1719 [==============================] - 3s 2ms/step - loss: 0.3438 - accuracy: 0.8779 - val_loss: 0.3500 - val_accuracy: 0.8782\n",
      "Epoch 10/30\n",
      "1719/1719 [==============================] - 2s 1ms/step - loss: 0.3349 - accuracy: 0.8808 - val_loss: 0.3407 - val_accuracy: 0.8812\n",
      "Epoch 11/30\n",
      "1719/1719 [==============================] - 2s 1ms/step - loss: 0.3266 - accuracy: 0.8830 - val_loss: 0.3441 - val_accuracy: 0.8768\n",
      "Epoch 12/30\n",
      "1719/1719 [==============================] - 2s 1ms/step - loss: 0.3181 - accuracy: 0.8855 - val_loss: 0.3477 - val_accuracy: 0.8784\n",
      "Epoch 13/30\n",
      "1719/1719 [==============================] - 2s 1ms/step - loss: 0.3105 - accuracy: 0.8886 - val_loss: 0.3299 - val_accuracy: 0.8846\n",
      "Epoch 14/30\n",
      "1719/1719 [==============================] - 2s 1ms/step - loss: 0.3040 - accuracy: 0.8918 - val_loss: 0.3512 - val_accuracy: 0.8768\n",
      "Epoch 15/30\n",
      "1719/1719 [==============================] - 2s 1ms/step - loss: 0.2972 - accuracy: 0.8939 - val_loss: 0.3320 - val_accuracy: 0.8808\n",
      "Epoch 16/30\n",
      "1719/1719 [==============================] - 2s 1ms/step - loss: 0.2914 - accuracy: 0.8946 - val_loss: 0.3269 - val_accuracy: 0.8814\n",
      "Epoch 17/30\n",
      "1719/1719 [==============================] - 2s 1ms/step - loss: 0.2867 - accuracy: 0.8965 - val_loss: 0.3271 - val_accuracy: 0.8824\n",
      "Epoch 18/30\n",
      "1719/1719 [==============================] - 2s 1ms/step - loss: 0.2806 - accuracy: 0.8994 - val_loss: 0.3153 - val_accuracy: 0.8872\n",
      "Epoch 19/30\n",
      "1719/1719 [==============================] - 2s 1ms/step - loss: 0.2753 - accuracy: 0.9019 - val_loss: 0.3387 - val_accuracy: 0.8802\n",
      "Epoch 20/30\n",
      "1719/1719 [==============================] - 2s 1ms/step - loss: 0.2692 - accuracy: 0.9029 - val_loss: 0.3115 - val_accuracy: 0.8870\n",
      "Epoch 21/30\n",
      "1719/1719 [==============================] - 2s 1ms/step - loss: 0.2654 - accuracy: 0.9050 - val_loss: 0.3171 - val_accuracy: 0.8842\n",
      "Epoch 22/30\n",
      "1719/1719 [==============================] - 2s 1ms/step - loss: 0.2598 - accuracy: 0.9061 - val_loss: 0.3095 - val_accuracy: 0.8882\n",
      "Epoch 23/30\n",
      "1719/1719 [==============================] - 2s 1ms/step - loss: 0.2549 - accuracy: 0.9077 - val_loss: 0.3065 - val_accuracy: 0.8884\n",
      "Epoch 24/30\n",
      "1719/1719 [==============================] - 2s 1ms/step - loss: 0.2513 - accuracy: 0.9090 - val_loss: 0.3089 - val_accuracy: 0.8900\n",
      "Epoch 25/30\n",
      "1719/1719 [==============================] - 2s 1ms/step - loss: 0.2464 - accuracy: 0.9111 - val_loss: 0.3209 - val_accuracy: 0.8830\n",
      "Epoch 26/30\n",
      "1719/1719 [==============================] - 2s 1ms/step - loss: 0.2423 - accuracy: 0.9134 - val_loss: 0.3063 - val_accuracy: 0.8914\n",
      "Epoch 27/30\n",
      "1719/1719 [==============================] - 2s 1ms/step - loss: 0.2389 - accuracy: 0.9144 - val_loss: 0.3072 - val_accuracy: 0.8890\n",
      "Epoch 28/30\n",
      "1719/1719 [==============================] - 2s 1ms/step - loss: 0.2351 - accuracy: 0.9158 - val_loss: 0.3095 - val_accuracy: 0.8838\n",
      "Epoch 29/30\n",
      "1719/1719 [==============================] - 3s 1ms/step - loss: 0.2307 - accuracy: 0.9170 - val_loss: 0.3186 - val_accuracy: 0.8792\n",
      "Epoch 30/30\n",
      "1719/1719 [==============================] - 2s 1ms/step - loss: 0.2273 - accuracy: 0.9186 - val_loss: 0.3214 - val_accuracy: 0.8806\n"
     ]
    }
   ],
   "source": [
    "history = model.fit(X_train, y_train, epochs=30,\n",
    "                    validation_data=(X_valid, y_valid))\n",
    "# You can see that loss is decreasing, accuracy is increasing\n",
    "# Check the gap between train score and valid score to see if there is overfitting"
   ]
  },
  {
   "cell_type": "code",
   "execution_count": 116,
   "metadata": {},
   "outputs": [],
   "source": [
    "import pandas as pd\n",
    "import matplotlib.pyplot as plt"
   ]
  },
  {
   "cell_type": "code",
   "execution_count": 117,
   "metadata": {},
   "outputs": [
    {
     "data": {
      "image/png": "[encoded data removed]",
      "text/plain": [
       "<Figure size 576x360 with 1 Axes>"
      ]
     },
     "metadata": {
      "needs_background": "light"
     },
     "output_type": "display_data"
    }
   ],
   "source": [
    "pd.DataFrame(history.history).plot(figsize = (8,5))\n",
    "plt.grid(True)\n",
    "plt.gca().set_ylim(0,1)\n",
    "plt.show()\n",
    "# Draw the learning curve, without defining extra function!"
   ]
  },
  {
   "cell_type": "code",
   "execution_count": 118,
   "metadata": {},
   "outputs": [
    {
     "name": "stdout",
     "output_type": "stream",
     "text": [
      "313/313 [==============================] - 0s 1ms/step - loss: 73.4542 - accuracy: 0.8269\n"
     ]
    },
    {
     "data": {
      "text/plain": [
       "[73.45423126220703, 0.8269000053405762]"
      ]
     },
     "execution_count": 118,
     "metadata": {},
     "output_type": "execute_result"
    }
   ],
   "source": [
    "# Evaluate our model on the test set\n",
    "model.evaluate(X_test, y_test)"
   ]
  },
  {
   "cell_type": "markdown",
   "metadata": {},
   "source": [
    "### Make predictions"
   ]
  },
  {
   "cell_type": "code",
   "execution_count": 119,
   "metadata": {},
   "outputs": [
    {
     "data": {
      "text/plain": [
       "array([[0., 0., 0., 0., 0., 0., 0., 0., 0., 1.],\n",
       "       [0., 0., 1., 0., 0., 0., 0., 0., 0., 0.],\n",
       "       [0., 1., 0., 0., 0., 0., 0., 0., 0., 0.]], dtype=float32)"
      ]
     },
     "execution_count": 119,
     "metadata": {},
     "output_type": "execute_result"
    }
   ],
   "source": [
    "X_new = X_test[:3]\n",
    "y_proba = model.predict(X_new)\n",
    "y_proba.round(2)\n",
    "# Get the predicted probability"
   ]
  },
  {
   "cell_type": "code",
   "execution_count": 120,
   "metadata": {},
   "outputs": [],
   "source": [
    "y_pred = model.predict_classes(X_new)"
   ]
  },
  {
   "cell_type": "code",
   "execution_count": 121,
   "metadata": {},
   "outputs": [
    {
     "data": {
      "text/plain": [
       "array([9, 2, 1])"
      ]
     },
     "execution_count": 121,
     "metadata": {},
     "output_type": "execute_result"
    }
   ],
   "source": [
    "y_pred "
   ]
  },
  {
   "cell_type": "code",
   "execution_count": 122,
   "metadata": {},
   "outputs": [
    {
     "data": {
      "text/plain": [
       "array([9, 2, 1], dtype=uint8)"
      ]
     },
     "execution_count": 122,
     "metadata": {},
     "output_type": "execute_result"
    }
   ],
   "source": [
    "y_test[:3] # Our predictions is correct!"
   ]
  },
  {
   "cell_type": "markdown",
   "metadata": {},
   "source": [
    "## Building a Regression MLP Using the Sequential API"
   ]
  },
  {
   "cell_type": "code",
   "execution_count": 146,
   "metadata": {},
   "outputs": [],
   "source": [
    "from sklearn.datasets import fetch_california_housing\n",
    "from sklearn.model_selection import train_test_split\n",
    "from sklearn.preprocessing import StandardScaler"
   ]
  },
  {
   "cell_type": "code",
   "execution_count": 167,
   "metadata": {},
   "outputs": [],
   "source": [
    "housing = fetch_california_housing()"
   ]
  },
  {
   "cell_type": "code",
   "execution_count": 168,
   "metadata": {},
   "outputs": [],
   "source": [
    "X_train_full, X_test, y_train_full, y_test = train_test_split(housing.data, housing.target,)"
   ]
  },
  {
   "cell_type": "code",
   "execution_count": 169,
   "metadata": {},
   "outputs": [],
   "source": [
    "X_train, X_valid, y_train, y_valid = train_test_split(X_train_full, y_train_full)"
   ]
  },
  {
   "cell_type": "code",
   "execution_count": 170,
   "metadata": {},
   "outputs": [],
   "source": [
    "scaler = StandardScaler()"
   ]
  },
  {
   "cell_type": "code",
   "execution_count": 171,
   "metadata": {},
   "outputs": [],
   "source": [
    "X_train = scaler.fit_transform(X_train)\n",
    "X_valid = scaler.transform(X_valid)\n",
    "X_test = scaler.transform(X_test)"
   ]
  },
  {
   "cell_type": "code",
   "execution_count": 172,
   "metadata": {},
   "outputs": [],
   "source": [
    "model = keras.models.Sequential([\n",
    "    keras.layers.Dense(30, activation='relu', input_shape=X_train.shape[1:]),\n",
    "    keras.layers.Dense(1)\n",
    "])"
   ]
  },
  {
   "cell_type": "code",
   "execution_count": 173,
   "metadata": {},
   "outputs": [],
   "source": [
    "model.compile(loss = 'mean_squared_error', optimizer = 'sgd')\n",
    "# history = model.fit(X_train, y_train, epochs = 20, validation_data=(X_valid, y_valid))"
   ]
  },
  {
   "cell_type": "code",
   "execution_count": 131,
   "metadata": {},
   "outputs": [
    {
     "name": "stdout",
     "output_type": "stream",
     "text": [
      "162/162 [==============================] - 0s 437us/step - loss: 0.3927\n"
     ]
    }
   ],
   "source": [
    "mse_test = model.evaluate(X_test, y_test)"
   ]
  },
  {
   "cell_type": "code",
   "execution_count": 132,
   "metadata": {},
   "outputs": [
    {
     "name": "stdout",
     "output_type": "stream",
     "text": [
      "[[1.9000455]\n",
      " [1.5836768]\n",
      " [1.6279299]]\n",
      "[1.666 1.956 1.902]\n"
     ]
    }
   ],
   "source": [
    "X_new = X_test[:3]\n",
    "y_pred = model.predict(X_new)\n",
    "print(y_pred)\n",
    "print(y_test[:3])"
   ]
  },
  {
   "cell_type": "markdown",
   "metadata": {},
   "source": [
    "## Building Complex Modesl Using the Functional API"
   ]
  },
  {
   "cell_type": "code",
   "execution_count": 133,
   "metadata": {},
   "outputs": [],
   "source": [
    "input_ = keras.layers.Input(shape = X_train.shape[1:])"
   ]
  },
  {
   "cell_type": "code",
   "execution_count": 134,
   "metadata": {},
   "outputs": [],
   "source": [
    "hidden1 = keras.layers.Dense(30, activation = 'relu')(input_)"
   ]
  },
  {
   "cell_type": "code",
   "execution_count": 135,
   "metadata": {},
   "outputs": [],
   "source": [
    "hidden2 = keras.layers.Dense(30, activation = 'relu')(hidden1)"
   ]
  },
  {
   "cell_type": "code",
   "execution_count": 136,
   "metadata": {},
   "outputs": [],
   "source": [
    "concat = keras.layers.Concatenate()([input_, hidden2])"
   ]
  },
  {
   "cell_type": "code",
   "execution_count": 137,
   "metadata": {},
   "outputs": [],
   "source": [
    "output = keras.layers.Dense(1)(concat)"
   ]
  },
  {
   "cell_type": "code",
   "execution_count": 138,
   "metadata": {},
   "outputs": [],
   "source": [
    "model = keras.Model(inputs=[input_], outputs=[output])"
   ]
  },
  {
   "cell_type": "code",
   "execution_count": 71,
   "metadata": {},
   "outputs": [],
   "source": [
    "# Once you have the model, the following steps are the same\n",
    "# Compile, Train, Evaluate, Make predictions"
   ]
  },
  {
   "cell_type": "markdown",
   "metadata": {},
   "source": [
    "## Using the Subclassing API to Build Dynamic Models"
   ]
  },
  {
   "cell_type": "code",
   "execution_count": 76,
   "metadata": {},
   "outputs": [],
   "source": [
    "class WildeAndDeepModel(keras.Model):\n",
    "    def __int__(self, units = 30, activation = 'relu', **kwargs):\n",
    "        super().__int__(**kwargs)\n",
    "        self.hidden1 = keras.layers.Dense(units, activation = activation)\n",
    "        self.hidden2 = keras.layers.Dense(units, activation=activation)\n",
    "        self.main_output = keras.layers.Dense(1)\n",
    "        self.aux_output = keras.layers.Dense(1)\n",
    "    def call(self, inputs):\n",
    "        input_A, input_B = inputs\n",
    "        hidden1 = self.hidden1(input_B)\n",
    "        hidden2 = self.hidden2(hidden1)\n",
    "        concat = keras.layers.concatenate([input_A, hidden2])\n",
    "        main_output = self.main_output(concat)\n",
    "        aux_output = self.aux_output(hidden2)\n",
    "        return main_output, aux_output\n",
    "#相当于你自己做了一个model，而且可以随心所欲的加想要的过程\n",
    "#但如果你只是call keras里的东西，你不能用for loop什么的 "
   ]
  },
  {
   "cell_type": "code",
   "execution_count": 77,
   "metadata": {},
   "outputs": [],
   "source": [
    "model1 = WildeAndDeepModel()\n",
    "# 之后的流程和正常的model是一样的"
   ]
  },
  {
   "cell_type": "markdown",
   "metadata": {},
   "source": [
    "## Saving and Restoring a Model"
   ]
  },
  {
   "cell_type": "code",
   "execution_count": 85,
   "metadata": {},
   "outputs": [],
   "source": [
    "model.save('my_first_keras_model.h5')"
   ]
  },
  {
   "cell_type": "code",
   "execution_count": 88,
   "metadata": {},
   "outputs": [
    {
     "name": "stdout",
     "output_type": "stream",
     "text": [
      "WARNING:tensorflow:No training configuration found in the save file, so the model was *not* compiled. Compile it manually.\n"
     ]
    }
   ],
   "source": [
    "load_model = keras.models.load_model(\"my_first_keras_model.h5\")"
   ]
  },
  {
   "cell_type": "markdown",
   "metadata": {},
   "source": [
    "### Using callbacks to save your model while training at certain checkpoints"
   ]
  },
  {
   "cell_type": "raw",
   "metadata": {},
   "source": [
    "checkpoint_cb = keras.callbacks.ModelCheckpoint('my_first_keras_model.h5')\n",
    "history = model.fit(X_train, y_train, epochs=10, callbacks = [checkpoint_cb])"
   ]
  },
  {
   "cell_type": "code",
   "execution_count": 89,
   "metadata": {},
   "outputs": [],
   "source": [
    "# By default, your model will be saved at the end of each spoch(\"checkpoint\")"
   ]
  },
  {
   "cell_type": "markdown",
   "metadata": {},
   "source": [
    "## Using TensorBoard for Visualization"
   ]
  },
  {
   "cell_type": "code",
   "execution_count": 174,
   "metadata": {},
   "outputs": [],
   "source": [
    "import os"
   ]
  },
  {
   "cell_type": "code",
   "execution_count": 175,
   "metadata": {},
   "outputs": [],
   "source": [
    "root_logdir = os.path.join(os.curdir, 'my_logs')"
   ]
  },
  {
   "cell_type": "code",
   "execution_count": 176,
   "metadata": {},
   "outputs": [],
   "source": [
    "def get_run_logdir():\n",
    "    import time\n",
    "    run_id = time.strftime('run_%Y_%m_%d-%H_%M_%S')\n",
    "    return os.path.join(root_logdir, run_id)"
   ]
  },
  {
   "cell_type": "code",
   "execution_count": 177,
   "metadata": {},
   "outputs": [],
   "source": [
    "run_logdir = get_run_logdir()"
   ]
  },
  {
   "cell_type": "code",
   "execution_count": 178,
   "metadata": {},
   "outputs": [
    {
     "data": {
      "text/plain": [
       "'./my_logs/run_2020_08_15-17_16_43'"
      ]
     },
     "execution_count": 178,
     "metadata": {},
     "output_type": "execute_result"
    }
   ],
   "source": [
    "run_logdir\n"
   ]
  },
  {
   "cell_type": "code",
   "execution_count": 179,
   "metadata": {},
   "outputs": [
    {
     "name": "stdout",
     "output_type": "stream",
     "text": [
      "Epoch 1/20\n",
      "  1/363 [..............................] - ETA: 0s - loss: 6.5551WARNING:tensorflow:Callbacks method `on_train_batch_end` is slow compared to the batch time (batch time: 0.0009s vs `on_train_batch_end` time: 0.0231s). Check your callbacks.\n",
      "363/363 [==============================] - 0s 832us/step - loss: 0.8626 - val_loss: 0.5435\n",
      "Epoch 2/20\n",
      "363/363 [==============================] - 0s 580us/step - loss: 1.0675 - val_loss: 4.2104\n",
      "Epoch 3/20\n",
      "363/363 [==============================] - 0s 661us/step - loss: 0.5525 - val_loss: 0.4436\n",
      "Epoch 4/20\n",
      "363/363 [==============================] - 0s 590us/step - loss: 0.4558 - val_loss: 0.4224\n",
      "Epoch 5/20\n",
      "363/363 [==============================] - 0s 634us/step - loss: 0.4423 - val_loss: 0.5096\n",
      "Epoch 6/20\n",
      "363/363 [==============================] - 0s 698us/step - loss: 0.4491 - val_loss: 0.4121\n",
      "Epoch 7/20\n",
      "363/363 [==============================] - 0s 571us/step - loss: 0.4270 - val_loss: 0.4014\n",
      "Epoch 8/20\n",
      "363/363 [==============================] - 0s 605us/step - loss: 0.4162 - val_loss: 0.3942\n",
      "Epoch 9/20\n",
      "363/363 [==============================] - 0s 579us/step - loss: 0.4111 - val_loss: 0.3948\n",
      "Epoch 10/20\n",
      "363/363 [==============================] - 0s 561us/step - loss: 0.4040 - val_loss: 0.3830\n",
      "Epoch 11/20\n",
      "363/363 [==============================] - 0s 599us/step - loss: 0.4012 - val_loss: 0.8018\n",
      "Epoch 12/20\n",
      "363/363 [==============================] - 0s 590us/step - loss: 0.4014 - val_loss: 0.3854\n",
      "Epoch 13/20\n",
      "363/363 [==============================] - 0s 562us/step - loss: 0.3915 - val_loss: 0.4383\n",
      "Epoch 14/20\n",
      "363/363 [==============================] - 0s 602us/step - loss: 0.3884 - val_loss: 0.3764\n",
      "Epoch 15/20\n",
      "363/363 [==============================] - 0s 607us/step - loss: 0.3837 - val_loss: 0.3768\n",
      "Epoch 16/20\n",
      "363/363 [==============================] - 0s 624us/step - loss: 0.3803 - val_loss: 0.3633\n",
      "Epoch 17/20\n",
      "363/363 [==============================] - 0s 584us/step - loss: 0.3874 - val_loss: 0.3603\n",
      "Epoch 18/20\n",
      "363/363 [==============================] - 0s 569us/step - loss: 0.3745 - val_loss: 0.3589\n",
      "Epoch 19/20\n",
      "363/363 [==============================] - 0s 560us/step - loss: 0.3820 - val_loss: 0.3598\n",
      "Epoch 20/20\n",
      "363/363 [==============================] - 0s 556us/step - loss: 0.3772 - val_loss: 0.3570\n"
     ]
    }
   ],
   "source": [
    "tensorboard_cb = keras.callbacks.TensorBoard(run_logdir)\n",
    "history = model.fit(X_train, y_train, epochs = 20, validation_data=(X_valid, y_valid), callbacks=[tensorboard_cb])"
   ]
  },
  {
   "cell_type": "code",
   "execution_count": 164,
   "metadata": {},
   "outputs": [],
   "source": [
    "%reload_ext tensorboard"
   ]
  },
  {
   "cell_type": "code",
   "execution_count": 166,
   "metadata": {
    "scrolled": true
   },
   "outputs": [
    {
     "data": {
      "text/plain": [
       "ERROR: Could not find `tensorboard`. Please ensure that your PATH\n",
       "contains an executable `tensorboard` program, or explicitly specify\n",
       "the path to a TensorBoard binary by setting the `TENSORBOARD_BINARY`\n",
       "environment variable."
      ]
     },
     "metadata": {},
     "output_type": "display_data"
    }
   ],
   "source": [
    "%tensorboard --run_logdir --port=6006"
   ]
  },
  {
   "cell_type": "markdown",
   "metadata": {},
   "source": [
    "# Fine-Tuning Neural Network Hyperparameters"
   ]
  },
  {
   "cell_type": "code",
   "execution_count": 181,
   "metadata": {},
   "outputs": [],
   "source": [
    "def build_model(n_hidden = 1, n_neurons = 30, learning_rate = 3e-3, input_shape = [8]):\n",
    "    model = keras.models.Sequential()\n",
    "    model.add(keras.layers.InputLayer(input_shape=input_shape))\n",
    "    for layer in range(n_hidden):\n",
    "        model.add(keras.layers.Dense(n_neurons, activation = 'relu'))\n",
    "    model.add(keras.layers.Dense(1))\n",
    "    optimizer = keras.optimizers.SGD(lr = learning_rate)\n",
    "    model.compile(loss = 'mse', optimizer=optimizer)\n",
    "    return model"
   ]
  },
  {
   "cell_type": "code",
   "execution_count": 182,
   "metadata": {},
   "outputs": [],
   "source": [
    "keras_reg = keras.wrappers.scikit_learn.KerasRegressor(build_model)\n",
    "# 这步的目的是use this model like a regular sklearn regression model?"
   ]
  },
  {
   "cell_type": "code",
   "execution_count": 183,
   "metadata": {},
   "outputs": [
    {
     "name": "stdout",
     "output_type": "stream",
     "text": [
      "Epoch 1/100\n",
      "363/363 [==============================] - 0s 815us/step - loss: 1.7817 - val_loss: 0.6886\n",
      "Epoch 2/100\n",
      "363/363 [==============================] - 0s 585us/step - loss: 0.7468 - val_loss: 0.6027\n",
      "Epoch 3/100\n",
      "363/363 [==============================] - 0s 558us/step - loss: 0.6048 - val_loss: 0.5479\n",
      "Epoch 4/100\n",
      "363/363 [==============================] - 0s 582us/step - loss: 0.5605 - val_loss: 0.5138\n",
      "Epoch 5/100\n",
      "363/363 [==============================] - 0s 595us/step - loss: 0.5317 - val_loss: 0.4924\n",
      "Epoch 6/100\n",
      "363/363 [==============================] - 0s 635us/step - loss: 0.5125 - val_loss: 0.4742\n",
      "Epoch 7/100\n",
      "363/363 [==============================] - 0s 615us/step - loss: 0.4985 - val_loss: 0.4659\n",
      "Epoch 8/100\n",
      "363/363 [==============================] - 0s 566us/step - loss: 0.4862 - val_loss: 0.4536\n",
      "Epoch 9/100\n",
      "363/363 [==============================] - 0s 554us/step - loss: 0.4774 - val_loss: 0.4465\n",
      "Epoch 10/100\n",
      "363/363 [==============================] - 0s 573us/step - loss: 0.4707 - val_loss: 0.4420\n",
      "Epoch 11/100\n",
      "363/363 [==============================] - 0s 563us/step - loss: 0.4639 - val_loss: 0.4360\n",
      "Epoch 12/100\n",
      "363/363 [==============================] - 0s 613us/step - loss: 0.4590 - val_loss: 0.4335\n",
      "Epoch 13/100\n",
      "363/363 [==============================] - 0s 603us/step - loss: 0.4547 - val_loss: 0.4293\n",
      "Epoch 14/100\n",
      "363/363 [==============================] - 0s 606us/step - loss: 0.4508 - val_loss: 0.4306\n",
      "Epoch 15/100\n",
      "363/363 [==============================] - 0s 600us/step - loss: 0.4480 - val_loss: 0.4237\n",
      "Epoch 16/100\n",
      "363/363 [==============================] - 0s 599us/step - loss: 0.4446 - val_loss: 0.4219\n",
      "Epoch 17/100\n",
      "363/363 [==============================] - 0s 636us/step - loss: 0.4419 - val_loss: 0.4192\n",
      "Epoch 18/100\n",
      "363/363 [==============================] - 0s 596us/step - loss: 0.4393 - val_loss: 0.4180\n",
      "Epoch 19/100\n",
      "363/363 [==============================] - 0s 577us/step - loss: 0.4371 - val_loss: 0.4168\n",
      "Epoch 20/100\n",
      "363/363 [==============================] - 0s 566us/step - loss: 0.4348 - val_loss: 0.4151\n",
      "Epoch 21/100\n",
      "363/363 [==============================] - 0s 564us/step - loss: 0.4333 - val_loss: 0.4117\n",
      "Epoch 22/100\n",
      "363/363 [==============================] - 0s 561us/step - loss: 0.4317 - val_loss: 0.4123\n",
      "Epoch 23/100\n",
      "363/363 [==============================] - 0s 549us/step - loss: 0.4298 - val_loss: 0.4091\n",
      "Epoch 24/100\n",
      "363/363 [==============================] - 0s 550us/step - loss: 0.4275 - val_loss: 0.4068\n",
      "Epoch 25/100\n",
      "363/363 [==============================] - 0s 599us/step - loss: 0.4257 - val_loss: 0.4066\n",
      "Epoch 26/100\n",
      "363/363 [==============================] - 0s 602us/step - loss: 0.4242 - val_loss: 0.4068\n",
      "Epoch 27/100\n",
      "363/363 [==============================] - 0s 596us/step - loss: 0.4226 - val_loss: 0.4046\n",
      "Epoch 28/100\n",
      "363/363 [==============================] - 0s 592us/step - loss: 0.4213 - val_loss: 0.4023\n",
      "Epoch 29/100\n",
      "363/363 [==============================] - 0s 579us/step - loss: 0.4196 - val_loss: 0.4019\n",
      "Epoch 30/100\n",
      "363/363 [==============================] - 0s 560us/step - loss: 0.4196 - val_loss: 0.4006\n",
      "Epoch 31/100\n",
      "363/363 [==============================] - 0s 564us/step - loss: 0.4168 - val_loss: 0.3977\n",
      "Epoch 32/100\n",
      "363/363 [==============================] - 0s 559us/step - loss: 0.4158 - val_loss: 0.3979\n",
      "Epoch 33/100\n",
      "363/363 [==============================] - 0s 595us/step - loss: 0.4145 - val_loss: 0.3963\n",
      "Epoch 34/100\n",
      "363/363 [==============================] - 0s 598us/step - loss: 0.4130 - val_loss: 0.3952\n",
      "Epoch 35/100\n",
      "363/363 [==============================] - 0s 596us/step - loss: 0.4114 - val_loss: 0.3942\n",
      "Epoch 36/100\n",
      "363/363 [==============================] - 0s 592us/step - loss: 0.4103 - val_loss: 0.3940\n",
      "Epoch 37/100\n",
      "363/363 [==============================] - 0s 563us/step - loss: 0.4085 - val_loss: 0.3926\n",
      "Epoch 38/100\n",
      "363/363 [==============================] - 0s 557us/step - loss: 0.4109 - val_loss: 0.3899\n",
      "Epoch 39/100\n",
      "363/363 [==============================] - 0s 564us/step - loss: 0.4068 - val_loss: 0.3884\n",
      "Epoch 40/100\n",
      "363/363 [==============================] - 0s 547us/step - loss: 0.4054 - val_loss: 0.3880\n",
      "Epoch 41/100\n",
      "363/363 [==============================] - 0s 562us/step - loss: 0.4064 - val_loss: 0.3870\n",
      "Epoch 42/100\n",
      "363/363 [==============================] - 0s 549us/step - loss: 0.4033 - val_loss: 0.3880\n",
      "Epoch 43/100\n",
      "363/363 [==============================] - 0s 553us/step - loss: 0.4019 - val_loss: 0.3850\n",
      "Epoch 44/100\n",
      "363/363 [==============================] - 0s 559us/step - loss: 0.4003 - val_loss: 0.3843\n",
      "Epoch 45/100\n",
      "363/363 [==============================] - 0s 546us/step - loss: 0.3998 - val_loss: 0.3877\n",
      "Epoch 46/100\n",
      "363/363 [==============================] - 0s 559us/step - loss: 0.3989 - val_loss: 0.3814\n",
      "Epoch 47/100\n",
      "363/363 [==============================] - 0s 562us/step - loss: 0.3969 - val_loss: 0.3814\n",
      "Epoch 48/100\n",
      "363/363 [==============================] - 0s 551us/step - loss: 0.3959 - val_loss: 0.3796\n",
      "Epoch 49/100\n",
      "363/363 [==============================] - 0s 564us/step - loss: 0.3946 - val_loss: 0.3790\n",
      "Epoch 50/100\n",
      "363/363 [==============================] - 0s 562us/step - loss: 0.3939 - val_loss: 0.3797\n",
      "Epoch 51/100\n",
      "363/363 [==============================] - 0s 560us/step - loss: 0.3926 - val_loss: 0.3772\n",
      "Epoch 52/100\n",
      "363/363 [==============================] - 0s 558us/step - loss: 0.3918 - val_loss: 0.3760\n",
      "Epoch 53/100\n",
      "363/363 [==============================] - 0s 567us/step - loss: 0.3903 - val_loss: 0.3746\n",
      "Epoch 54/100\n",
      "363/363 [==============================] - 0s 549us/step - loss: 0.3894 - val_loss: 0.3730\n",
      "Epoch 55/100\n",
      "363/363 [==============================] - 0s 549us/step - loss: 0.3883 - val_loss: 0.3725\n",
      "Epoch 56/100\n",
      "363/363 [==============================] - 0s 548us/step - loss: 0.3874 - val_loss: 0.3715\n",
      "Epoch 57/100\n",
      "363/363 [==============================] - 0s 560us/step - loss: 0.3862 - val_loss: 0.3711\n",
      "Epoch 58/100\n",
      "363/363 [==============================] - 0s 549us/step - loss: 0.3852 - val_loss: 0.3700\n",
      "Epoch 59/100\n",
      "363/363 [==============================] - 0s 550us/step - loss: 0.3845 - val_loss: 0.3685\n",
      "Epoch 60/100\n",
      "363/363 [==============================] - 0s 548us/step - loss: 0.3838 - val_loss: 0.3680\n",
      "Epoch 61/100\n",
      "363/363 [==============================] - 0s 550us/step - loss: 0.3828 - val_loss: 0.3670\n",
      "Epoch 62/100\n",
      "363/363 [==============================] - 0s 559us/step - loss: 0.3829 - val_loss: 0.3666\n",
      "Epoch 63/100\n",
      "363/363 [==============================] - 0s 551us/step - loss: 0.3826 - val_loss: 0.3666\n",
      "Epoch 64/100\n",
      "363/363 [==============================] - 0s 550us/step - loss: 0.3804 - val_loss: 0.3657\n",
      "Epoch 65/100\n",
      "363/363 [==============================] - 0s 554us/step - loss: 0.3786 - val_loss: 0.3660\n",
      "Epoch 66/100\n",
      "363/363 [==============================] - 0s 550us/step - loss: 0.3781 - val_loss: 0.3637\n",
      "Epoch 67/100\n",
      "363/363 [==============================] - 0s 594us/step - loss: 0.3786 - val_loss: 0.3637\n",
      "Epoch 68/100\n",
      "363/363 [==============================] - 0s 592us/step - loss: 0.3764 - val_loss: 0.3620\n",
      "Epoch 69/100\n",
      "363/363 [==============================] - 0s 588us/step - loss: 0.3752 - val_loss: 0.3623\n",
      "Epoch 70/100\n",
      "363/363 [==============================] - 0s 568us/step - loss: 0.3746 - val_loss: 0.3630\n",
      "Epoch 71/100\n",
      "363/363 [==============================] - 0s 604us/step - loss: 0.3748 - val_loss: 0.3767\n",
      "Epoch 72/100\n",
      "363/363 [==============================] - 0s 615us/step - loss: 0.3738 - val_loss: 0.3600\n",
      "Epoch 73/100\n",
      "363/363 [==============================] - 0s 604us/step - loss: 0.3736 - val_loss: 0.3589\n",
      "Epoch 74/100\n",
      "363/363 [==============================] - 0s 587us/step - loss: 0.3716 - val_loss: 0.3571\n",
      "Epoch 75/100\n",
      "363/363 [==============================] - 0s 575us/step - loss: 0.3701 - val_loss: 0.3607\n",
      "Epoch 76/100\n",
      "363/363 [==============================] - 0s 587us/step - loss: 0.3696 - val_loss: 0.3615\n",
      "Epoch 77/100\n",
      "363/363 [==============================] - 0s 563us/step - loss: 0.3688 - val_loss: 0.3556\n",
      "Epoch 78/100\n",
      "363/363 [==============================] - 0s 587us/step - loss: 0.3699 - val_loss: 0.3604\n",
      "Epoch 79/100\n",
      "363/363 [==============================] - 0s 580us/step - loss: 0.3686 - val_loss: 0.3541\n"
     ]
    },
    {
     "name": "stdout",
     "output_type": "stream",
     "text": [
      "Epoch 80/100\n",
      "363/363 [==============================] - 0s 570us/step - loss: 0.3666 - val_loss: 0.3550\n",
      "Epoch 81/100\n",
      "363/363 [==============================] - 0s 598us/step - loss: 0.3671 - val_loss: 0.3537\n",
      "Epoch 82/100\n",
      "363/363 [==============================] - 0s 544us/step - loss: 0.3655 - val_loss: 0.3522\n",
      "Epoch 83/100\n",
      "363/363 [==============================] - 0s 589us/step - loss: 0.3648 - val_loss: 0.3521\n",
      "Epoch 84/100\n",
      "363/363 [==============================] - 0s 601us/step - loss: 0.3646 - val_loss: 0.3530\n",
      "Epoch 85/100\n",
      "363/363 [==============================] - 0s 605us/step - loss: 0.3638 - val_loss: 0.3562\n",
      "Epoch 86/100\n",
      "363/363 [==============================] - 0s 591us/step - loss: 0.3633 - val_loss: 0.3519\n",
      "Epoch 87/100\n",
      "363/363 [==============================] - 0s 604us/step - loss: 0.3622 - val_loss: 0.3692\n",
      "Epoch 88/100\n",
      "363/363 [==============================] - 0s 606us/step - loss: 0.3617 - val_loss: 0.3522\n",
      "Epoch 89/100\n",
      "363/363 [==============================] - 0s 606us/step - loss: 0.3615 - val_loss: 0.3510\n",
      "Epoch 90/100\n",
      "363/363 [==============================] - 0s 570us/step - loss: 0.3601 - val_loss: 0.3494\n",
      "Epoch 91/100\n",
      "363/363 [==============================] - 0s 550us/step - loss: 0.3597 - val_loss: 0.3507\n",
      "Epoch 92/100\n",
      "363/363 [==============================] - 0s 549us/step - loss: 0.3600 - val_loss: 0.3495\n",
      "Epoch 93/100\n",
      "363/363 [==============================] - 0s 549us/step - loss: 0.3605 - val_loss: 0.3480\n",
      "Epoch 94/100\n",
      "363/363 [==============================] - 0s 609us/step - loss: 0.3579 - val_loss: 0.3474\n",
      "Epoch 95/100\n",
      "363/363 [==============================] - 0s 592us/step - loss: 0.3573 - val_loss: 0.3495\n",
      "Epoch 96/100\n",
      "363/363 [==============================] - 0s 597us/step - loss: 0.3567 - val_loss: 0.3471\n",
      "Epoch 97/100\n",
      "363/363 [==============================] - 0s 562us/step - loss: 0.3559 - val_loss: 0.3467\n",
      "Epoch 98/100\n",
      "363/363 [==============================] - 0s 552us/step - loss: 0.3555 - val_loss: 0.3467\n",
      "Epoch 99/100\n",
      "363/363 [==============================] - 0s 562us/step - loss: 0.3550 - val_loss: 0.3490\n",
      "Epoch 100/100\n",
      "363/363 [==============================] - 0s 582us/step - loss: 0.3576 - val_loss: 0.3827\n"
     ]
    },
    {
     "data": {
      "text/plain": [
       "<tensorflow.python.keras.callbacks.History at 0x7fd627950bb0>"
      ]
     },
     "execution_count": 183,
     "metadata": {},
     "output_type": "execute_result"
    }
   ],
   "source": [
    "keras_reg.fit(X_train, y_train, epochs = 100, validation_data = (X_valid, y_valid))"
   ]
  },
  {
   "cell_type": "code",
   "execution_count": 185,
   "metadata": {},
   "outputs": [
    {
     "name": "stdout",
     "output_type": "stream",
     "text": [
      "162/162 [==============================] - 0s 516us/step - loss: 0.3806\n",
      "WARNING:tensorflow:5 out of the last 7 calls to <function Model.make_predict_function.<locals>.predict_function at 0x7fd627a64430> triggered tf.function retracing. Tracing is expensive and the excessive number of tracings could be due to (1) creating @tf.function repeatedly in a loop, (2) passing tensors with different shapes, (3) passing Python objects instead of tensors. For (1), please define your @tf.function outside of the loop. For (2), @tf.function has experimental_relax_shapes=True option that relaxes argument shapes that can avoid unnecessary retracing. For (3), please refer to https://www.tensorflow.org/tutorials/customization/performance#python_or_tensor_args and https://www.tensorflow.org/api_docs/python/tf/function for  more details.\n"
     ]
    }
   ],
   "source": [
    "mse_test = keras_reg.score(X_test, y_test)\n",
    "y_pred = keras_reg.predict(X_new)"
   ]
  },
  {
   "cell_type": "code",
   "execution_count": 186,
   "metadata": {},
   "outputs": [
    {
     "data": {
      "text/plain": [
       "array([1.8813944, 1.5141732, 1.6332026], dtype=float32)"
      ]
     },
     "execution_count": 186,
     "metadata": {},
     "output_type": "execute_result"
    }
   ],
   "source": [
    "y_pred"
   ]
  },
  {
   "cell_type": "code",
   "execution_count": 187,
   "metadata": {},
   "outputs": [],
   "source": [
    "from scipy.stats import reciprocal\n",
    "from sklearn.model_selection import RandomizedSearchCV"
   ]
  },
  {
   "cell_type": "code",
   "execution_count": null,
   "metadata": {},
   "outputs": [],
   "source": [
    "# param_ = {\n",
    "#     'n_hiddens':[0,1,2,3],\n",
    "#     'n_neurons':np.arange(1, 100).\n",
    "#     'learning_rate':reciprocal(3e-4, 3e-2)\n",
    "# }"
   ]
  }
 ],
 "metadata": {
  "kernelspec": {
   "display_name": "Python 3",
   "language": "python",
   "name": "python3"
  },
  "language_info": {
   "codemirror_mode": {
    "name": "ipython",
    "version": 3
   },
   "file_extension": ".py",
   "mimetype": "text/x-python",
   "name": "python",
   "nbconvert_exporter": "python",
   "pygments_lexer": "ipython3",
   "version": "3.8.5"
  }
 },
 "nbformat": 4,
 "nbformat_minor": 2
}
