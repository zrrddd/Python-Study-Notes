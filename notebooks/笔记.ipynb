{
 "cells": [
  {
   "cell_type": "code",
   "execution_count": 1,
   "metadata": {},
   "outputs": [],
   "source": [
    "import numpy as np\n",
    "import pandas as pd"
   ]
  },
  {
   "cell_type": "markdown",
   "metadata": {},
   "source": [
    "## `qcut` and `cut`"
   ]
  },
  {
   "cell_type": "markdown",
   "metadata": {},
   "source": [
    "`pd.qcut(raw_data['Fare'], 4)`\n",
    "<br>qcut就是percentile，0 - 25 - 50 - 75这样，每个bin里的东西是一样多的\n",
    "<br>cut是根据max-min的差值cut，每个bin的长度一样，但是里面的东西不一定一样多"
   ]
  },
  {
   "cell_type": "markdown",
   "metadata": {},
   "source": [
    "## Boxplot"
   ]
  },
  {
   "cell_type": "markdown",
   "metadata": {},
   "source": [
    "`plt.boxplot(x=data1['Fare'], showmeans = True, meanline = True)`"
   ]
  },
  {
   "cell_type": "markdown",
   "metadata": {},
   "source": [
    "## Stacked Histogram"
   ]
  },
  {
   "cell_type": "markdown",
   "metadata": {},
   "source": [
    "`plt.hist(x = [data1[data1['Survived']==1]['Fare'], data1[data1['Survived']==0]['Fare']], \n",
    "stacked=True, color = ['g','r'],label = ['Survived','Dead'])`\n",
    "<br>\n",
    "x = [a,b], stacked = True, color = [ ], label = [ ]\n",
    "<br>\n",
    "**画图别忘记加plt.legend( ) !**"
   ]
  },
  {
   "cell_type": "markdown",
   "metadata": {},
   "source": [
    "## Difference between `ColumnTransformer` and `get_dummies`"
   ]
  },
  {
   "cell_type": "markdown",
   "metadata": {},
   "source": [
    "The differene between `ColumnTransformer` (from sklearn) and `get_dummies` (from pandas):\n",
    "<br> \n",
    "- `ColumnTransformer` will trun everything into array, making it hard for you to check result\n",
    "- `ColumnTransformer` 自动化，而且下次如果出现了新的category会报错/handle situation "
   ]
  },
  {
   "cell_type": "markdown",
   "metadata": {},
   "source": [
    "## Use `FunctionTransformer`"
   ]
  },
  {
   "cell_type": "markdown",
   "metadata": {},
   "source": [
    "`from numpy import log1p`\n",
    "<br>\n",
    "`from sklearn.preprocessing import FunctionTransformer`\n",
    "\n",
    "自定义转换函数为对数函数的数据变换\n",
    "第一个参数是单变元函数\n",
    "<br>\n",
    "`FunctionTransformer(log1p).fit_transform(iris.data)`"
   ]
  },
  {
   "cell_type": "markdown",
   "metadata": {},
   "source": [
    "## When to impute missing data?"
   ]
  },
  {
   "cell_type": "markdown",
   "metadata": {},
   "source": [
    "Suggestion: Not to impute missing data in columns, which have more than 40% of missing data.¶"
   ]
  },
  {
   "cell_type": "markdown",
   "metadata": {},
   "source": [
    "## Remove outlier using IQR"
   ]
  },
  {
   "cell_type": "markdown",
   "metadata": {},
   "source": [
    "IQR = 75%percentile - 25%percentile\n",
    "<br>\n",
    "Upper_limit = 75%percentile + 1.5 * IQR\n",
    "<br>\n",
    "Lower_limit = 25%percentile - 1.5 * IQR"
   ]
  },
  {
   "cell_type": "markdown",
   "metadata": {},
   "source": [
    "## Save Pipeline"
   ]
  },
  {
   "cell_type": "raw",
   "metadata": {},
   "source": [
    "joblib.dump(pipe, 'pipe.joblib')\n",
    "\n",
    "# print our newly saved pipeline\n",
    "print_files()\n",
    "\n",
    "#------------------------------------------------------------\n",
    "# save pipeline\n",
    "new_pipe = joblib.load('/kaggle/working/pipe.joblib')"
   ]
  },
  {
   "cell_type": "markdown",
   "metadata": {},
   "source": [
    "## Use SimpleImputer"
   ]
  },
  {
   "cell_type": "raw",
   "metadata": {},
   "source": [
    "df[\"most_frequent\"] = SimpleImputer(strategy = \"most_frequent\").fit_transform(df[[\"Shape_Original\"]])"
   ]
  },
  {
   "cell_type": "markdown",
   "metadata": {},
   "source": [
    "## Train_Test_Split with stratify"
   ]
  },
  {
   "cell_type": "raw",
   "metadata": {},
   "source": [
    "X_train, X_test, y_train, y_test = train_test_split(X, y, test_size = 0.5, stratify = y, random_state = 1)\n",
    "#这样分的train test，y每个class的比例是一样的 不会出现train里某个class特别多，test里的另一个class特别多"
   ]
  },
  {
   "cell_type": "code",
   "execution_count": 2,
   "metadata": {},
   "outputs": [],
   "source": [
    "import random"
   ]
  },
  {
   "cell_type": "code",
   "execution_count": 5,
   "metadata": {},
   "outputs": [],
   "source": [
    "?random.random"
   ]
  },
  {
   "cell_type": "code",
   "execution_count": 8,
   "metadata": {},
   "outputs": [],
   "source": [
    "def twoSum(nums, target):\n",
    "        \"\"\"\n",
    "        :type nums: List[int]\n",
    "        :type target: int\n",
    "        :rtype: List[int]\n",
    "        \"\"\"\n",
    "        d = {}\n",
    "        for i in range(len(nums)):\n",
    "            d[nums[i]] = i\n",
    "        for k in nums:\n",
    "            what_need = target - k \n",
    "            if (what_need in nums) and (k != what_need):\n",
    "                this_index = d[k]\n",
    "                that_index = d[what_need]\n",
    "                return [this_index, that_index]"
   ]
  },
  {
   "cell_type": "code",
   "execution_count": 9,
   "metadata": {},
   "outputs": [
    {
     "data": {
      "text/plain": [
       "[1, 2]"
      ]
     },
     "execution_count": 9,
     "metadata": {},
     "output_type": "execute_result"
    }
   ],
   "source": [
    "twoSum([3,2,4], 6)"
   ]
  },
  {
   "cell_type": "code",
   "execution_count": null,
   "metadata": {},
   "outputs": [],
   "source": []
  }
 ],
 "metadata": {
  "kernelspec": {
   "display_name": "Python 3",
   "language": "python",
   "name": "python3"
  },
  "language_info": {
   "codemirror_mode": {
    "name": "ipython",
    "version": 3
   },
   "file_extension": ".py",
   "mimetype": "text/x-python",
   "name": "python",
   "nbconvert_exporter": "python",
   "pygments_lexer": "ipython3",
   "version": "3.8.5"
  }
 },
 "nbformat": 4,
 "nbformat_minor": 2
}
