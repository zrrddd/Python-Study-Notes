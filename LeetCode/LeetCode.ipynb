{
 "cells": [
  {
   "cell_type": "markdown",
   "metadata": {},
   "source": [
    "# 119. Pascal's Triangle II"
   ]
  },
  {
   "cell_type": "code",
   "execution_count": 35,
   "metadata": {},
   "outputs": [],
   "source": [
    "def getRow(rowIndex):\n",
    "    if rowIndex == 0:\n",
    "        return [1]\n",
    "    if rowIndex == 1:\n",
    "        return [1,1]\n",
    "    r = [[1], [1,1]]\n",
    "    for i in range(2, rowIndex + 1):\n",
    "        this_line = []\n",
    "        for k in range(i - 1):\n",
    "            this_number = r[i - 1][k] + r[i - 1][k + 1]\n",
    "            this_line.append(this_number)\n",
    "        r.append([1] + this_line + [1])\n",
    "    \n",
    "    return r[-1]"
   ]
  },
  {
   "cell_type": "markdown",
   "metadata": {},
   "source": [
    "# 121. Best Time to Buy and Sell Stock"
   ]
  },
  {
   "cell_type": "code",
   "execution_count": 3,
   "metadata": {},
   "outputs": [],
   "source": [
    "# My solution\n",
    "def maxProfit(prices) -> int:\n",
    "    if len(prices) <= 1:\n",
    "        return 0\n",
    "    profit = 0\n",
    "    buy_min = prices[0]\n",
    "    for i in range(len(prices)-1):\n",
    "        buy_min = min(buy_min, prices[i])\n",
    "        if buy_min == prices[i]:\n",
    "            sell = max(prices[i+1:])\n",
    "            pro = sell - prices[i]\n",
    "            if pro >= profit:\n",
    "                profit = pro\n",
    "    return profit"
   ]
  },
  {
   "cell_type": "code",
   "execution_count": 4,
   "metadata": {},
   "outputs": [],
   "source": [
    "# 这个更快\n",
    "def maxProfit(prices):\n",
    "    profit=0\n",
    "    if not prices:\n",
    "        return profit\n",
    "    low=prices[0]\n",
    "    \n",
    "    for p in prices:\n",
    "        profit = max(profit,p-low)\n",
    "        low=min(low,p)\n",
    "    \n",
    "    return profit"
   ]
  },
  {
   "cell_type": "markdown",
   "metadata": {},
   "source": [
    "# 205. Isomorphic Strings"
   ]
  },
  {
   "cell_type": "code",
   "execution_count": 34,
   "metadata": {},
   "outputs": [],
   "source": [
    "def isIsomorphic(s, t):\n",
    "    d = dict()\n",
    "    map_object = set()\n",
    "    for i in range(len(s)):\n",
    "        if s[i] not in d.keys():\n",
    "            if t[i] in map_object:\n",
    "                return False\n",
    "            else:\n",
    "                d[s[i]] = t[i]\n",
    "                map_object.add(t[i])\n",
    "        else:\n",
    "            if d[s[i]] != t[i]:\n",
    "                return False\n",
    "    return True"
   ]
  },
  {
   "cell_type": "markdown",
   "metadata": {},
   "source": [
    "# 392. Is Subsequence"
   ]
  },
  {
   "cell_type": "code",
   "execution_count": 17,
   "metadata": {},
   "outputs": [],
   "source": [
    "def isSubsequence(s, t):\n",
    "    s_ = 0\n",
    "    t_ = 0\n",
    "    if s == t:\n",
    "        return True\n",
    "    while (s_ < len(s)):\n",
    "        if t_ >= len(t):\n",
    "            return False\n",
    "        if s[s_] == t[t_]:\n",
    "            s_ += 1\n",
    "            t_ += 1\n",
    "        else:\n",
    "            while s[s_] != t[t_]:\n",
    "                t_ += 1\n",
    "                if t_ >= len(t):\n",
    "                    return False\n",
    "            s_ += 1\n",
    "            t_ += 1\n",
    "    return True"
   ]
  },
  {
   "cell_type": "code",
   "execution_count": 18,
   "metadata": {},
   "outputs": [
    {
     "data": {
      "text/plain": [
       "False"
      ]
     },
     "execution_count": 18,
     "metadata": {},
     "output_type": "execute_result"
    }
   ],
   "source": [
    "isSubsequence(\"aaaaaa\",\"bbaaaa\")"
   ]
  }
 ],
 "metadata": {
  "kernelspec": {
   "display_name": "Python 3",
   "language": "python",
   "name": "python3"
  },
  "language_info": {
   "codemirror_mode": {
    "name": "ipython",
    "version": 3
   },
   "file_extension": ".py",
   "mimetype": "text/x-python",
   "name": "python",
   "nbconvert_exporter": "python",
   "pygments_lexer": "ipython3",
   "version": "3.8.5"
  }
 },
 "nbformat": 4,
 "nbformat_minor": 4
}
