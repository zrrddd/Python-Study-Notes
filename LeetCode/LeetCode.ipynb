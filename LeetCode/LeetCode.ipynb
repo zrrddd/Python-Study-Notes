{
 "cells": [
  {
   "cell_type": "markdown",
   "metadata": {},
   "source": [
    "# 36. Valid Sudoku"
   ]
  },
  {
   "cell_type": "code",
   "execution_count": 20,
   "metadata": {},
   "outputs": [],
   "source": [
    "def isValidSudoku(board):\n",
    "    \"\"\"\n",
    "    :type board: List[List[str]]\n",
    "    :rtype: bool\n",
    "    \"\"\"\n",
    "    \n",
    "    def check(lst):\n",
    "        letter_only = [i for i in lst if i != '.']\n",
    "        return len(letter_only) == len(set(letter_only))\n",
    "    # 检查横排\n",
    "    for i in board:\n",
    "        if not check(i):\n",
    "            # print('hi1')\n",
    "            return False\n",
    "    # 检查竖排\n",
    "    for i in range(9):\n",
    "        r = []\n",
    "        for k in range(9):\n",
    "            r.append(board[k][i])\n",
    "        if not check(r):\n",
    "            # print('hi2')\n",
    "            return False\n",
    "    # 检查9宫格\n",
    "    for i in range(0,9,3):\n",
    "#         r = []\n",
    "        for k in range(0,9,3):\n",
    "            r = []\n",
    "            r += [board[i][k], board[i][k+1], board[i][k+2],\n",
    "                  board[i+1][k], board[i+1][k+1], board[i+1][k+2],\n",
    "                  board[i+2][k], board[i+2][k+1], board[i+2][k+2]]\n",
    "            print(r)\n",
    "            if not check(r):\n",
    "                # print('hi3')\n",
    "                return False\n",
    "    return True"
   ]
  },
  {
   "cell_type": "markdown",
   "metadata": {},
   "source": [
    "# 70. Climbing Stairs"
   ]
  },
  {
   "cell_type": "code",
   "execution_count": null,
   "metadata": {},
   "outputs": [],
   "source": [
    "def climbStairs(self, n):\n",
    "    \"\"\"\n",
    "    :type n: int\n",
    "    :rtype: int\n",
    "    \"\"\"\n",
    "    if n == 1:\n",
    "        return 1\n",
    "    if n == 2:\n",
    "        return 2\n",
    "    a = 1\n",
    "    b = 2\n",
    "    for i in range(2,n):\n",
    "        c = a + b\n",
    "        a = b\n",
    "        b = c\n",
    "    return c"
   ]
  },
  {
   "cell_type": "markdown",
   "metadata": {},
   "source": [
    "# 119. Pascal's Triangle II"
   ]
  },
  {
   "cell_type": "code",
   "execution_count": 1,
   "metadata": {},
   "outputs": [],
   "source": [
    "def getRow(rowIndex):\n",
    "    if rowIndex == 0:\n",
    "        return [1]\n",
    "    if rowIndex == 1:\n",
    "        return [1,1]\n",
    "    r = [[1], [1,1]]\n",
    "    for i in range(2, rowIndex + 1):\n",
    "        this_line = []\n",
    "        for k in range(i - 1):\n",
    "            this_number = r[i - 1][k] + r[i - 1][k + 1]\n",
    "            this_line.append(this_number)\n",
    "        r.append([1] + this_line + [1])\n",
    "    \n",
    "    return r[-1]"
   ]
  },
  {
   "cell_type": "markdown",
   "metadata": {},
   "source": [
    "# 121. Best Time to Buy and Sell Stock"
   ]
  },
  {
   "cell_type": "code",
   "execution_count": 2,
   "metadata": {},
   "outputs": [],
   "source": [
    "# My solution\n",
    "def maxProfit(prices) -> int:\n",
    "    if len(prices) <= 1:\n",
    "        return 0\n",
    "    profit = 0\n",
    "    buy_min = prices[0]\n",
    "    for i in range(len(prices)-1):\n",
    "        buy_min = min(buy_min, prices[i])\n",
    "        if buy_min == prices[i]:\n",
    "            sell = max(prices[i+1:])\n",
    "            pro = sell - prices[i]\n",
    "            if pro >= profit:\n",
    "                profit = pro\n",
    "    return profit"
   ]
  },
  {
   "cell_type": "code",
   "execution_count": 3,
   "metadata": {},
   "outputs": [],
   "source": [
    "# 这个更快\n",
    "def maxProfit(prices):\n",
    "    profit=0\n",
    "    if not prices:\n",
    "        return profit\n",
    "    low=prices[0]\n",
    "    \n",
    "    for p in prices:\n",
    "        profit = max(profit,p-low)\n",
    "        low=min(low,p)\n",
    "    \n",
    "    return profit"
   ]
  },
  {
   "cell_type": "markdown",
   "metadata": {},
   "source": [
    "# 122. Best Time to Buy and Sell Stock II"
   ]
  },
  {
   "cell_type": "code",
   "execution_count": 14,
   "metadata": {},
   "outputs": [],
   "source": [
    "import numpy as np\n",
    "class Solution(object):\n",
    "    def maxProfit(self, prices):\n",
    "        \"\"\"\n",
    "        :type prices: List[int]\n",
    "        :rtype: int\n",
    "        \"\"\"\n",
    "        \n",
    "        a = list(np.diff(prices))\n",
    "        a = [i for i in a if i > 0]\n",
    "        a.append(0)\n",
    "        return sum(a)\n",
    "        "
   ]
  },
  {
   "cell_type": "markdown",
   "metadata": {},
   "source": [
    "# 134. Gas Station"
   ]
  },
  {
   "cell_type": "code",
   "execution_count": 10,
   "metadata": {},
   "outputs": [],
   "source": [
    "# My solution\n",
    "import numpy as np\n",
    "class Solution(object):\n",
    "    def canCompleteCircuit(self, gas, cost):\n",
    "        \"\"\"\n",
    "        :type gas: List[int]\n",
    "        :type cost: List[int]\n",
    "        :rtype: int\n",
    "        \"\"\"\n",
    "        gas = np.array(gas)\n",
    "        cost = np.array(cost)\n",
    "        diff = gas - cost\n",
    "        # print(diff)\n",
    "        for i in range(len(diff)):\n",
    "            if i >= 0:\n",
    "                new_route = list(diff[i:]) + list(diff[:i])\n",
    "                # print(new_route)\n",
    "                t = np.cumsum(np.array(new_route))\n",
    "                # print(t)\n",
    "                if (t >= 0).all():\n",
    "                    return i\n",
    "        return -1"
   ]
  },
  {
   "cell_type": "code",
   "execution_count": 11,
   "metadata": {},
   "outputs": [],
   "source": [
    "# A better solution\n",
    "class Solution(object):\n",
    "    def canCompleteCircuit(self, gas, cost):\n",
    "        \"\"\"\n",
    "        :type gas: List[int]\n",
    "        :type cost: List[int]\n",
    "        :rtype: int\n",
    "        \"\"\"\n",
    "        if sum(gas) < sum(cost): return -1\n",
    "        \n",
    "        pos = balance = 0\n",
    "        for i in range(len(gas)):\n",
    "            balance += gas[i]-cost[i]\n",
    "            if balance < 0:\n",
    "                balance = 0\n",
    "                pos = i+1\n",
    "                \n",
    "        return pos"
   ]
  },
  {
   "cell_type": "markdown",
   "metadata": {},
   "source": [
    "# 139. Word Break"
   ]
  },
  {
   "cell_type": "code",
   "execution_count": 3,
   "metadata": {},
   "outputs": [],
   "source": [
    "class Solution(object):\n",
    "    def wordBreak(self, s, wordDict):\n",
    "        \"\"\"\n",
    "        :type s: str\n",
    "        :type wordDict: List[str]\n",
    "        :rtype: bool\n",
    "        \"\"\"\n",
    "        dp = [True] + [False] * len(s)\n",
    "        for indx in range(1, len(s) + 1):\n",
    "            for word in wordDict:\n",
    "                if dp[indx - len(word)] and s[:indx].endswith(word):\n",
    "                    dp[indx] = True\n",
    "        return dp[-1]"
   ]
  },
  {
   "cell_type": "markdown",
   "metadata": {},
   "source": [
    "# 179. Largest Number"
   ]
  },
  {
   "cell_type": "code",
   "execution_count": null,
   "metadata": {},
   "outputs": [],
   "source": [
    "class Solution:\n",
    "    def largestNumber(self, nums: List[int]) -> str:\n",
    "        if len(nums) == 0:\n",
    "            return ''\n",
    "        \n",
    "        final_str = ''\n",
    "        flag = 0\n",
    "        \n",
    "        for x in range(0, len(nums) - 1):\n",
    "            for y in range(x + 1, len(nums)):\n",
    "                a,b = str(nums[x]), str(nums[y])\n",
    "                if (int(b + a) > int(a + b)):\n",
    "                    nums[x], nums[y] = nums[y], nums[x]\n",
    "        \n",
    "        if nums[0] == 0: \n",
    "            return '0'\n",
    "        \n",
    "        while flag < len(nums):\n",
    "            final_str += str(nums[flag])\n",
    "            flag += 1\n",
    "        \n",
    "        return final_str\n",
    "        "
   ]
  },
  {
   "cell_type": "markdown",
   "metadata": {},
   "source": [
    "# 205. Isomorphic Strings"
   ]
  },
  {
   "cell_type": "code",
   "execution_count": 4,
   "metadata": {},
   "outputs": [],
   "source": [
    "def isIsomorphic(s, t):\n",
    "    d = dict()\n",
    "    map_object = set()\n",
    "    for i in range(len(s)):\n",
    "        if s[i] not in d.keys():\n",
    "            if t[i] in map_object:\n",
    "                return False\n",
    "            else:\n",
    "                d[s[i]] = t[i]\n",
    "                map_object.add(t[i])\n",
    "        else:\n",
    "            if d[s[i]] != t[i]:\n",
    "                return False\n",
    "    return True"
   ]
  },
  {
   "cell_type": "markdown",
   "metadata": {},
   "source": [
    "# 226. Invert Binary Tree"
   ]
  },
  {
   "cell_type": "code",
   "execution_count": 19,
   "metadata": {},
   "outputs": [],
   "source": [
    "# Definition for a binary tree node.\n",
    "# class TreeNode(object):\n",
    "#     def __init__(self, val=0, left=None, right=None):\n",
    "#         self.val = val\n",
    "#         self.left = left\n",
    "#         self.right = right\n",
    "class Solution(object):\n",
    "    def invertTree(self, root):\n",
    "        \"\"\"\n",
    "        :type root: TreeNode\n",
    "        :rtype: TreeNode\n",
    "        \"\"\"\n",
    "        if not root:\n",
    "            return None\n",
    "        root.left,root.right=self.invertTree(root.right),self.invertTree(root.left)\n",
    "        return root"
   ]
  },
  {
   "cell_type": "markdown",
   "metadata": {},
   "source": [
    "# 234. Palindrome Linked List"
   ]
  },
  {
   "cell_type": "code",
   "execution_count": 24,
   "metadata": {},
   "outputs": [],
   "source": [
    "class Solution(object):\n",
    "    def isPalindrome(self, head):\n",
    "        \"\"\"\n",
    "        :type head: ListNode\n",
    "        :rtype: bool\n",
    "        \"\"\"\n",
    "        v = []\n",
    "        while head is not None:\n",
    "            v.append(head.val)\n",
    "            head = head.next\n",
    "        return v == v[::-1]"
   ]
  },
  {
   "cell_type": "markdown",
   "metadata": {},
   "source": [
    "# 367. Valid Perfect Square"
   ]
  },
  {
   "cell_type": "code",
   "execution_count": 7,
   "metadata": {},
   "outputs": [],
   "source": [
    "class Solution(object):\n",
    "    def isPerfectSquare(self, num):\n",
    "        \"\"\"\n",
    "        :type num: int\n",
    "        :rtype: bool\n",
    "        \"\"\"\n",
    "        if num == 1:\n",
    "            return True\n",
    "        if num == 2:\n",
    "            return False\n",
    "        \n",
    "        \n",
    "        start = 1\n",
    "        end = num\n",
    "        \n",
    "        while start < end-1:\n",
    "            mid = (start + end)//2\n",
    "            if mid ** 2 == num:\n",
    "                return True\n",
    "            elif mid ** 2 > num:\n",
    "                end = mid\n",
    "            else:\n",
    "                start = mid\n",
    "\n",
    "        return False\n"
   ]
  },
  {
   "cell_type": "markdown",
   "metadata": {},
   "source": [
    "# 374. Guess Number Higher or Lower"
   ]
  },
  {
   "cell_type": "code",
   "execution_count": 9,
   "metadata": {},
   "outputs": [],
   "source": [
    "# The guess API is already defined for you.\n",
    "# @param num, your guess\n",
    "# @return -1 if my number is lower, 1 if my number is higher, otherwise return 0\n",
    "# def guess(num):\n",
    "\n",
    "class Solution(object):\n",
    "    def guessNumber(self, n):\n",
    "        \"\"\"\n",
    "        :type n: int\n",
    "        :rtype: int\n",
    "        \"\"\"\n",
    "        start = 1\n",
    "        end = n\n",
    "        while start < end - 1:\n",
    "            mid = (start + end)//2\n",
    "            print(mid)\n",
    "            guess_result = guess(mid)\n",
    "            if guess_result == 0:\n",
    "                return mid\n",
    "            elif guess_result == -1:\n",
    "                end = mid\n",
    "            else:\n",
    "                start = mid\n",
    "        if not guess(start):\n",
    "            return start\n",
    "        if not guess(end):\n",
    "            return end"
   ]
  },
  {
   "cell_type": "markdown",
   "metadata": {},
   "source": [
    "# 389. Find the Difference"
   ]
  },
  {
   "cell_type": "code",
   "execution_count": 8,
   "metadata": {},
   "outputs": [],
   "source": [
    "class Solution(object):\n",
    "    def findTheDifference(self, s, t):\n",
    "        \"\"\"\n",
    "        :type s: str\n",
    "        :type t: str\n",
    "        :rtype: str\n",
    "        \"\"\"\n",
    "        t = [i for i in t]\n",
    "        for i in s:\n",
    "            t.remove(i)\n",
    "        return t[0]"
   ]
  },
  {
   "cell_type": "markdown",
   "metadata": {},
   "source": [
    "# 392. Is Subsequence"
   ]
  },
  {
   "cell_type": "code",
   "execution_count": 5,
   "metadata": {},
   "outputs": [],
   "source": [
    "def isSubsequence(s, t):\n",
    "    s_ = 0\n",
    "    t_ = 0\n",
    "    if s == t:\n",
    "        return True\n",
    "    while (s_ < len(s)):\n",
    "        if t_ >= len(t):\n",
    "            return False\n",
    "        if s[s_] == t[t_]:\n",
    "            s_ += 1\n",
    "            t_ += 1\n",
    "        else:\n",
    "            while s[s_] != t[t_]:\n",
    "                t_ += 1\n",
    "                if t_ >= len(t):\n",
    "                    return False\n",
    "            s_ += 1\n",
    "            t_ += 1\n",
    "    return True"
   ]
  },
  {
   "cell_type": "code",
   "execution_count": 6,
   "metadata": {
    "scrolled": false
   },
   "outputs": [
    {
     "data": {
      "text/plain": [
       "False"
      ]
     },
     "execution_count": 6,
     "metadata": {},
     "output_type": "execute_result"
    }
   ],
   "source": [
    "isSubsequence(\"aaaaaa\",\"bbaaaa\")"
   ]
  },
  {
   "cell_type": "markdown",
   "metadata": {},
   "source": [
    "# 399. Evaluate Division"
   ]
  },
  {
   "cell_type": "code",
   "execution_count": null,
   "metadata": {},
   "outputs": [],
   "source": [
    "class Solution(object):\n",
    "    def calcEquation(self, equations, values, queries):\n",
    "        \"\"\"\n",
    "        :type equations: List[List[str]]\n",
    "        :type values: List[float]\n",
    "        :type queries: List[List[str]]\n",
    "        :rtype: List[float]\n",
    "        \"\"\"\n",
    "        # 先把graph弄出来\n",
    "        graph = collections.defaultdict(dict)\n",
    "        for (x,y), value in zip(equations, values):\n",
    "            graph[x][y] = value\n",
    "            graph[y][x] = 1.0/value\n",
    "        \n",
    "        def dfs(x, y, visited):\n",
    "            if x not in graph or y not in graph:\n",
    "                return -1.0\n",
    "            elif y in graph[x]:\n",
    "                return graph[x][y]\n",
    "            else:\n",
    "                for i in graph[x]:\n",
    "                    if i not in visited:\n",
    "                        visited.add(i)\n",
    "                        temp = dfs(i, y, visited)\n",
    "                        if temp == -1:\n",
    "                            continue\n",
    "                        else:\n",
    "                            return temp * graph[x][i]\n",
    "            return -1\n",
    "        # 然后开始找人\n",
    "        r = []\n",
    "        for query in queries:\n",
    "            r.append(dfs(query[0], query[1], set()))\n",
    "        return r\n",
    "        \n",
    "        "
   ]
  },
  {
   "cell_type": "markdown",
   "metadata": {},
   "source": [
    "# 455. Assign Cookies"
   ]
  },
  {
   "cell_type": "code",
   "execution_count": 17,
   "metadata": {},
   "outputs": [],
   "source": [
    "def findContentChildren(g, s):\n",
    "    \"\"\"\n",
    "    :type g: List[int]\n",
    "    :type s: List[int]\n",
    "    :rtype: int\n",
    "    \"\"\"\n",
    "    g = sorted(g)\n",
    "    s = sorted(s)\n",
    "    i = 0\n",
    "    j = 0\n",
    "    content = 0\n",
    "    while j < len(s) and i < len(g):\n",
    "        if s[j] >= g[i]:\n",
    "            content += 1\n",
    "            j += 1\n",
    "            i += 1\n",
    "        else:\n",
    "            j += 1\n",
    "    return content"
   ]
  },
  {
   "cell_type": "markdown",
   "metadata": {},
   "source": [
    "# 463. Island Perimeter"
   ]
  },
  {
   "cell_type": "code",
   "execution_count": 18,
   "metadata": {},
   "outputs": [],
   "source": [
    "class Solution(object):\n",
    "    def islandPerimeter(self, grid):\n",
    "        \"\"\"\n",
    "        :type grid: List[List[int]]\n",
    "        :rtype: int\n",
    "        \"\"\"\n",
    "        perimeter = 0\n",
    "        for i in range(len(grid)):\n",
    "            for k in range(len(grid[0])):\n",
    "                this_cell = grid[i][k]\n",
    "                if this_cell == 1:\n",
    "                    perimeter += 4\n",
    "                # 观察一下周围的cell\n",
    "                    right,left,up,down = None,None,None,None\n",
    "                    if k != len(grid[0]) - 1:\n",
    "                        right = grid[i][k+1]\n",
    "                    if k != 0:\n",
    "                        left = grid[i][k-1]\n",
    "                    if i != 0:\n",
    "                        up = grid[i-1][k]\n",
    "                    if i != len(grid) - 1:\n",
    "                        down = grid[i+1][k]\n",
    "                    \n",
    "                    for g in [right,left,up,down]:\n",
    "                        if g == 1:\n",
    "                            perimeter -= 1\n",
    "\n",
    "        return perimeter"
   ]
  },
  {
   "cell_type": "markdown",
   "metadata": {},
   "source": [
    "# 495. Teemo Attacking"
   ]
  },
  {
   "cell_type": "code",
   "execution_count": null,
   "metadata": {},
   "outputs": [],
   "source": [
    "class Solution:\n",
    "    def findPoisonedDuration(self, timeSeries: List[int], duration: int) -> int:\n",
    "        if timeSeries == []:\n",
    "            return 0\n",
    "        if len(timeSeries) == 1:\n",
    "            return duration\n",
    "        count = 0\n",
    "        i = 0\n",
    "        timeSeries.append(timeSeries[-1] + duration)\n",
    "        while i < len(timeSeries) - 1:\n",
    "            b = False\n",
    "            for k in range(1,duration+1):\n",
    "                if timeSeries[i] + k > timeSeries[i+1]:\n",
    "                    i += 1\n",
    "                    b = True\n",
    "                    break\n",
    "                else:\n",
    "                    count += 1\n",
    "            if not b:\n",
    "                i += 1\n",
    "        return count\n",
    "            "
   ]
  },
  {
   "cell_type": "markdown",
   "metadata": {},
   "source": [
    "# 507. Perfect Number"
   ]
  },
  {
   "cell_type": "code",
   "execution_count": 29,
   "metadata": {},
   "outputs": [],
   "source": [
    "def checkPerfectNumber(num):\n",
    "    \"\"\"\n",
    "    :type num: int\n",
    "    :rtype: bool\n",
    "    \"\"\"\n",
    "    divisors = []\n",
    "    i = 1\n",
    "    while i < num ** 0.5:\n",
    "        if num%i == 0:\n",
    "            divisors.append(i)\n",
    "            divisors.append(int(num/i))\n",
    "        i += 1\n",
    "    return sum(divisors) == 2 * num"
   ]
  },
  {
   "cell_type": "code",
   "execution_count": 30,
   "metadata": {},
   "outputs": [
    {
     "data": {
      "text/plain": [
       "True"
      ]
     },
     "execution_count": 30,
     "metadata": {},
     "output_type": "execute_result"
    }
   ],
   "source": [
    "checkPerfectNumber(28)"
   ]
  },
  {
   "cell_type": "markdown",
   "metadata": {},
   "source": [
    "# 680. Valid Palindrome II"
   ]
  },
  {
   "cell_type": "code",
   "execution_count": null,
   "metadata": {},
   "outputs": [],
   "source": [
    "class Solution(object):\n",
    "    def validPalindrome(self, s):\n",
    "        \"\"\"\n",
    "        :type s: str\n",
    "        :rtype: bool\n",
    "        \"\"\"\n",
    "        def check(s):\n",
    "            i = 0\n",
    "            while i < len(s)//2:\n",
    "                if s[i] != s[len(s) - 1 - i]:\n",
    "                    return False\n",
    "                i += 1\n",
    "            return True\n",
    "        i = 0\n",
    "        j = len(s) -1 \n",
    "        delete = False\n",
    "        while i < j:\n",
    "            if s[i] == s[j]:\n",
    "                i += 1\n",
    "                j -= 1\n",
    "            else:\n",
    "                delete = True\n",
    "                break\n",
    "        if delete:\n",
    "            new_s_1 = s[:i] + s[i + 1:]\n",
    "            if check(new_s_1):\n",
    "                return True\n",
    "            new_s_2 = s[:j] + s[j + 1:]\n",
    "            if check(new_s_2):\n",
    "                return True\n",
    "            return False\n",
    "        if not delete:\n",
    "            return True"
   ]
  },
  {
   "cell_type": "markdown",
   "metadata": {},
   "source": [
    "# 697. Degree of an Array"
   ]
  },
  {
   "cell_type": "code",
   "execution_count": 13,
   "metadata": {},
   "outputs": [],
   "source": [
    "class Solution(object):\n",
    "    def findShortestSubArray(self, nums):\n",
    "        \"\"\"\n",
    "        :type nums: List[int]\n",
    "        :rtype: int\n",
    "        \"\"\"\n",
    "        d = dict()\n",
    "        index_d = dict()\n",
    "        degree = 0\n",
    "        for i in range(len(nums)):\n",
    "            if nums[i] not in d.keys():\n",
    "                d[nums[i]] = 1\n",
    "            else:\n",
    "                d[nums[i]] += 1\n",
    "            \n",
    "            if nums[i] not in index_d.keys():\n",
    "                index_d[nums[i]] = [i]\n",
    "            else:\n",
    "                index_d[nums[i]].append(i)\n",
    "            \n",
    "            if d[nums[i]] > degree:\n",
    "                degree = d[nums[i]]\n",
    "        \n",
    "        degree_element = []\n",
    "        for i in d.keys():\n",
    "            if d[i] == degree:\n",
    "                degree_element.append(i)\n",
    "        \n",
    "        smallest = float('inf')\n",
    "        for i in degree_element:\n",
    "            indexes = index_d[i]\n",
    "            diff = max(indexes) - min(indexes)\n",
    "            if diff < smallest:\n",
    "                smallest = diff\n",
    "        return smallest + 1\n",
    "            "
   ]
  },
  {
   "cell_type": "code",
   "execution_count": null,
   "metadata": {},
   "outputs": [],
   "source": [
    "# another solution\n",
    "class Solution:\n",
    "    def findShortestSubArray(self, nums: List[int]) -> int:\n",
    "        s=set(nums)\n",
    "        d={}\n",
    "        for i in s:\n",
    "            d[i]=nums.count(i)\n",
    "        maxc=max(d.values())\n",
    "        re=nums[::-1]\n",
    "        res=9999999999\n",
    "        for key,value in d.items():\n",
    "            if value==maxc:\n",
    "                res=min(res,len(nums)-nums.index(key)-re.index(key))\n",
    "        return res"
   ]
  },
  {
   "cell_type": "markdown",
   "metadata": {},
   "source": [
    "# 713. Subarray Product Less Than K"
   ]
  },
  {
   "cell_type": "code",
   "execution_count": 1,
   "metadata": {},
   "outputs": [],
   "source": [
    "class Solution(object):\n",
    "    def numSubarrayProductLessThanK(self, nums, k):\n",
    "        \"\"\"\n",
    "        :type nums: List[int]\n",
    "        :type k: int\n",
    "        :rtype: int\n",
    "        \"\"\"\n",
    "        l = 0\n",
    "        res = 0\n",
    "        product = 1\n",
    "        \n",
    "        for r in range(len(nums)):\n",
    "            product = product * nums[r]\n",
    "            # print(product)\n",
    "            if product < k:\n",
    "                res += (r - l + 1)\n",
    "                # print(res)\n",
    "            else:\n",
    "                while product >= k and l <= r:\n",
    "                    product /= nums[l]\n",
    "                    l += 1\n",
    "                res += (r - l + 1)\n",
    "        return res\n",
    "        "
   ]
  },
  {
   "cell_type": "markdown",
   "metadata": {},
   "source": [
    "# 933. Number of Recent Calls"
   ]
  },
  {
   "cell_type": "code",
   "execution_count": null,
   "metadata": {},
   "outputs": [],
   "source": [
    "class RecentCounter:\n",
    "\n",
    "    def __init__(self):\n",
    "        self.requests = []\n",
    "    def ping(self, t: int) -> int:\n",
    "        self.requests.append(t)\n",
    "        lower_bound = t - 3000\n",
    "        upper_bound = t\n",
    "        count = 0\n",
    "        for i in self.requests[::-1]:\n",
    "            if i >= lower_bound and i <= upper_bound:\n",
    "                count += 1\n",
    "            if i < lower_bound:\n",
    "                break\n",
    "        return count\n",
    "\n",
    "# Your RecentCounter object will be instantiated and called as such:\n",
    "# obj = RecentCounter()\n",
    "# param_1 = obj.ping(t)"
   ]
  },
  {
   "cell_type": "markdown",
   "metadata": {},
   "source": [
    "# 1094. Car Pooling"
   ]
  },
  {
   "cell_type": "code",
   "execution_count": null,
   "metadata": {},
   "outputs": [],
   "source": [
    "def carPooling(trips, capacity):\n",
    "    last_location = -1\n",
    "    for i in trips:\n",
    "        if i[2] > last_location:\n",
    "            last_location = i[2]\n",
    "    people = [0] * last_location\n",
    "    people = people[::-1]\n",
    "    \n",
    "    for i in trips:\n",
    "        start = i[1]\n",
    "        drop = i[2]\n",
    "        p = i[0]\n",
    "        people[start - 1] += p\n",
    "        people[drop - 1] -= p\n",
    "    for i in range(len(people)):\n",
    "        check = people[:i]\n",
    "        if sum(check) > capacity:\n",
    "            return False\n",
    "        \n",
    "    return True"
   ]
  },
  {
   "cell_type": "markdown",
   "metadata": {},
   "source": [
    "# 1207. Unique Number of Occurrences"
   ]
  },
  {
   "cell_type": "code",
   "execution_count": 1,
   "metadata": {},
   "outputs": [],
   "source": [
    "class Solution(object):\n",
    "    def uniqueOccurrences(self, arr):\n",
    "        \"\"\"\n",
    "        :type arr: List[int]\n",
    "        :rtype: bool\n",
    "        \"\"\"\n",
    "        d = dict()\n",
    "        for i in arr:\n",
    "            if i not in d.keys():\n",
    "                d[i] = 1\n",
    "            else:\n",
    "                d[i] += 1\n",
    "        o = []\n",
    "        for i in d.keys():\n",
    "            o.append(d[i])\n",
    "            \n",
    "        return len(o) == len(set(o))"
   ]
  },
  {
   "cell_type": "markdown",
   "metadata": {},
   "source": [
    "# 1291. Sequential Digits"
   ]
  },
  {
   "cell_type": "code",
   "execution_count": 35,
   "metadata": {},
   "outputs": [],
   "source": [
    "def sequentialDigits(low, high):\n",
    "    \"\"\"\n",
    "    :type low: int\n",
    "    :type high: int\n",
    "    :rtype: List[int]\n",
    "    \"\"\"\n",
    "    all_ = []\n",
    "    for i in range(2,10):\n",
    "        # i 代表位数\n",
    "        first_digit_choice = 10 - i\n",
    "        for k in range(1, first_digit_choice + 1):\n",
    "            # k 代表第一位\n",
    "            this_num = ''\n",
    "            curr = int(k)\n",
    "            for n in range(i):\n",
    "                this_num += str(curr)\n",
    "                curr += 1\n",
    "            all_.append(int(this_num))\n",
    "    lower = -1\n",
    "    start_lower = True\n",
    "    higher = -1\n",
    "    start_higher = True\n",
    "    for i in range(len(all_)):\n",
    "        if all_[i] >= low and start_lower:\n",
    "            lower = i\n",
    "            start_lower = False\n",
    "        if all_[i] > high and start_higher:\n",
    "            higher = i\n",
    "            start_higher = False\n",
    "    print(lower, higher)\n",
    "    if lower == -1:\n",
    "        return []\n",
    "    if higher == -1:\n",
    "        higher = len(all_)\n",
    "    return all_[lower:higher]"
   ]
  },
  {
   "cell_type": "code",
   "execution_count": 3,
   "metadata": {},
   "outputs": [
    {
     "data": {
      "text/plain": [
       "False"
      ]
     },
     "execution_count": 3,
     "metadata": {},
     "output_type": "execute_result"
    }
   ],
   "source": [
    "set([1,2,3])set([1,2,3,4])\n"
   ]
  },
  {
   "cell_type": "code",
   "execution_count": 4,
   "metadata": {},
   "outputs": [
    {
     "data": {
      "text/plain": [
       "2"
      ]
     },
     "execution_count": 4,
     "metadata": {},
     "output_type": "execute_result"
    }
   ],
   "source": [
    "[1,2,3].index(3)"
   ]
  },
  {
   "cell_type": "code",
   "execution_count": 1,
   "metadata": {},
   "outputs": [
    {
     "data": {
      "text/plain": [
       "True"
      ]
     },
     "execution_count": 1,
     "metadata": {},
     "output_type": "execute_result"
    }
   ],
   "source": [
    "'as' in 'basc'"
   ]
  },
  {
   "cell_type": "code",
   "execution_count": null,
   "metadata": {},
   "outputs": [],
   "source": []
  }
 ],
 "metadata": {
  "kernelspec": {
   "display_name": "Python 3",
   "language": "python",
   "name": "python3"
  },
  "language_info": {
   "codemirror_mode": {
    "name": "ipython",
    "version": 3
   },
   "file_extension": ".py",
   "mimetype": "text/x-python",
   "name": "python",
   "nbconvert_exporter": "python",
   "pygments_lexer": "ipython3",
   "version": "3.8.5"
  }
 },
 "nbformat": 4,
 "nbformat_minor": 4
}
