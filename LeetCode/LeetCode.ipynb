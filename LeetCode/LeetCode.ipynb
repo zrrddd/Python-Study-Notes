{
 "cells": [
  {
   "cell_type": "code",
   "execution_count": 1,
   "metadata": {},
   "outputs": [],
   "source": [
    "import numpy as np\n",
    "import pandas as pd\n",
    "import math\n",
    "from collections import deque"
   ]
  },
  {
   "cell_type": "code",
   "execution_count": 5,
   "metadata": {},
   "outputs": [
    {
     "data": {
      "text/plain": [
       "1234"
      ]
     },
     "execution_count": 5,
     "metadata": {},
     "output_type": "execute_result"
    }
   ],
   "source": [
    "a = 12344\n",
    "a//10"
   ]
  },
  {
   "cell_type": "code",
   "execution_count": 8,
   "metadata": {},
   "outputs": [
    {
     "data": {
      "text/plain": [
       "5"
      ]
     },
     "execution_count": 8,
     "metadata": {},
     "output_type": "execute_result"
    }
   ],
   "source": [
    "len(str(a))"
   ]
  },
  {
   "cell_type": "code",
   "execution_count": 26,
   "metadata": {},
   "outputs": [],
   "source": [
    "def reverse(x):\n",
    "    num = len(str(x))\n",
    "    store = []\n",
    "    for i in range(num):\n",
    "        remain = x//10\n",
    "        mod = x%10\n",
    "        store = store + [str(mod)]\n",
    "        x = remain\n",
    "    return ''.join(store)"
   ]
  },
  {
   "cell_type": "code",
   "execution_count": 29,
   "metadata": {},
   "outputs": [
    {
     "data": {
      "text/plain": [
       "'54321'"
      ]
     },
     "execution_count": 29,
     "metadata": {},
     "output_type": "execute_result"
    }
   ],
   "source": [
    "''.join(reverse(12345))"
   ]
  },
  {
   "cell_type": "code",
   "execution_count": 67,
   "metadata": {},
   "outputs": [],
   "source": [
    "def reverse(x):\n",
    "        \"\"\"\n",
    "        :type x: int\n",
    "        :rtype: int\n",
    "        \"\"\"\n",
    "        if x == 0:\n",
    "            return '0'\n",
    "        \n",
    "        if x < 0:\n",
    "            x = abs(x)\n",
    "            neg = True\n",
    "        else:\n",
    "            neg = False\n",
    "        num = len(str(x))\n",
    "        store = []\n",
    "        for i in range(num):\n",
    "            remain = x//10\n",
    "            mod = x%10\n",
    "            if mod != 0:\n",
    "                store = store + [str(mod)]\n",
    "                x = remain\n",
    "            x = remain\n",
    "        if neg:\n",
    "            store = ['-'] + store\n",
    "        return ''.join(store)"
   ]
  },
  {
   "cell_type": "code",
   "execution_count": 70,
   "metadata": {},
   "outputs": [],
   "source": [
    "a = reverse(0)"
   ]
  },
  {
   "cell_type": "code",
   "execution_count": 71,
   "metadata": {},
   "outputs": [
    {
     "data": {
      "text/plain": [
       "'0'"
      ]
     },
     "execution_count": 71,
     "metadata": {},
     "output_type": "execute_result"
    }
   ],
   "source": [
    "a"
   ]
  },
  {
   "cell_type": "code",
   "execution_count": 85,
   "metadata": {},
   "outputs": [],
   "source": [
    "def reverse(x):\n",
    "    #Special Case 0\n",
    "    if x == 0:\n",
    "        return x\n",
    "    \n",
    "    # 处理负数\n",
    "    if x < 0:\n",
    "        x = abs(x)\n",
    "        neg = True\n",
    "    else:\n",
    "        neg = False\n",
    "    \n",
    "    \n",
    "    while x%10 == 0:\n",
    "        x = x//10\n",
    "    num = len(str(x))\n",
    "    store = []\n",
    "    for i in range(num):\n",
    "        remain = x//10\n",
    "        mod = x%10\n",
    "        store = store + [str(mod)]\n",
    "        x = remain\n",
    "    if neg:\n",
    "        store = ['-'] + store\n",
    "    r = ''.join(store)\n",
    "    check = int(r)\n",
    "    if (check > 2**31) or (check < -2**31):\n",
    "        return 0\n",
    "    else:\n",
    "        return check"
   ]
  },
  {
   "cell_type": "code",
   "execution_count": 86,
   "metadata": {},
   "outputs": [
    {
     "data": {
      "text/plain": [
       "0"
      ]
     },
     "execution_count": 86,
     "metadata": {},
     "output_type": "execute_result"
    }
   ],
   "source": [
    "reverse(\n",
    "1534236469)"
   ]
  },
  {
   "cell_type": "code",
   "execution_count": 87,
   "metadata": {},
   "outputs": [
    {
     "data": {
      "text/plain": [
       "2147483648"
      ]
     },
     "execution_count": 87,
     "metadata": {},
     "output_type": "execute_result"
    }
   ],
   "source": [
    "2 ** 31"
   ]
  },
  {
   "cell_type": "code",
   "execution_count": 2,
   "metadata": {},
   "outputs": [
    {
     "data": {
      "text/plain": [
       "444"
      ]
     },
     "execution_count": 2,
     "metadata": {},
     "output_type": "execute_result"
    }
   ],
   "source": [
    "123 + 321"
   ]
  },
  {
   "cell_type": "code",
   "execution_count": 6,
   "metadata": {},
   "outputs": [],
   "source": [
    "def isPalindrome(x):\n",
    "    x = str(x)\n",
    "    for i in range(len(x)):\n",
    "        if x[i] != x[len(x) - i - 1]:\n",
    "            return False\n",
    "    return True"
   ]
  },
  {
   "cell_type": "code",
   "execution_count": 11,
   "metadata": {},
   "outputs": [
    {
     "data": {
      "text/plain": [
       "True"
      ]
     },
     "execution_count": 11,
     "metadata": {},
     "output_type": "execute_result"
    }
   ],
   "source": [
    "isPalindrome(1234321)"
   ]
  },
  {
   "cell_type": "code",
   "execution_count": 20,
   "metadata": {},
   "outputs": [
    {
     "name": "stdout",
     "output_type": "stream",
     "text": [
      "8\n",
      "6\n",
      "4\n",
      "2\n",
      "0\n"
     ]
    }
   ],
   "source": [
    "for i in range(8,-1,-2):\n",
    "    print(i)"
   ]
  },
  {
   "cell_type": "code",
   "execution_count": 16,
   "metadata": {},
   "outputs": [],
   "source": [
    "r_to_n = {'I':1, 'V':5, 'X':10, 'L':50, 'C':100, 'D':500, 'M':1000,\n",
    "                   'IV':4, 'IX':9, 'XL':40, 'XC':90, 'CD':400, 'CM':900}"
   ]
  },
  {
   "cell_type": "code",
   "execution_count": 18,
   "metadata": {},
   "outputs": [
    {
     "data": {
      "text/plain": [
       "True"
      ]
     },
     "execution_count": 18,
     "metadata": {},
     "output_type": "execute_result"
    }
   ],
   "source": [
    "'CD' in r_to_n.keys()"
   ]
  },
  {
   "cell_type": "code",
   "execution_count": 21,
   "metadata": {},
   "outputs": [],
   "source": [
    "a = 'CD'"
   ]
  },
  {
   "cell_type": "code",
   "execution_count": 22,
   "metadata": {},
   "outputs": [
    {
     "data": {
      "text/plain": [
       "''"
      ]
     },
     "execution_count": 22,
     "metadata": {},
     "output_type": "execute_result"
    }
   ],
   "source": [
    "a[-1:0]"
   ]
  },
  {
   "cell_type": "code",
   "execution_count": 24,
   "metadata": {},
   "outputs": [
    {
     "name": "stdout",
     "output_type": "stream",
     "text": [
      "10\n",
      "8\n",
      "6\n",
      "4\n",
      "2\n",
      "0\n"
     ]
    }
   ],
   "source": [
    "for i in range(10, -1, -2):\n",
    "    print(i)"
   ]
  },
  {
   "cell_type": "code",
   "execution_count": 62,
   "metadata": {},
   "outputs": [],
   "source": [
    "def romanToInt(s):\n",
    "        \"\"\"\n",
    "        :type s: str\n",
    "        :rtype: int\n",
    "        \"\"\"\n",
    "        r_to_n = {'I':1, 'V':5, 'X':10, 'L':50, 'C':100, 'D':500, 'M':1000,\n",
    "                   'IV':4, 'IX':9, 'XL':40, 'XC':90, 'CD':400, 'CM':900}\n",
    "        total_sum = 0\n",
    "        num_len = len(s)\n",
    "        count = 0\n",
    "        \n",
    "        for i in range(num_len):\n",
    "            \n",
    "            double_char = s[count:count+2]\n",
    "            if double_char in r_to_n.keys():\n",
    "                total_sum += r_to_n[double_char]\n",
    "                count += 2\n",
    "            else:\n",
    "#                 print(count)\n",
    "                total_sum += r_to_n[s[count]]\n",
    "                count += 1\n",
    "            if count >= num_len:\n",
    "                break\n",
    "        return total_sum"
   ]
  },
  {
   "cell_type": "code",
   "execution_count": 67,
   "metadata": {},
   "outputs": [
    {
     "data": {
      "text/plain": [
       "4"
      ]
     },
     "execution_count": 67,
     "metadata": {},
     "output_type": "execute_result"
    }
   ],
   "source": [
    "romanToInt(\"IV\")"
   ]
  },
  {
   "cell_type": "code",
   "execution_count": 3,
   "metadata": {},
   "outputs": [],
   "source": [
    "from collections import deque"
   ]
  },
  {
   "cell_type": "code",
   "execution_count": 4,
   "metadata": {},
   "outputs": [],
   "source": [
    "myStack = deque()"
   ]
  },
  {
   "cell_type": "code",
   "execution_count": 5,
   "metadata": {},
   "outputs": [],
   "source": [
    "myStack.append('a')\n",
    "myStack.append('b')\n",
    "myStack.append('c')"
   ]
  },
  {
   "cell_type": "code",
   "execution_count": 6,
   "metadata": {},
   "outputs": [
    {
     "data": {
      "text/plain": [
       "'c'"
      ]
     },
     "execution_count": 6,
     "metadata": {},
     "output_type": "execute_result"
    }
   ],
   "source": [
    "myStack.pop()"
   ]
  },
  {
   "cell_type": "code",
   "execution_count": 3,
   "metadata": {},
   "outputs": [],
   "source": [
    "a = [1,1,2,3,4]"
   ]
  },
  {
   "cell_type": "code",
   "execution_count": 4,
   "metadata": {},
   "outputs": [
    {
     "data": {
      "text/plain": [
       "1"
      ]
     },
     "execution_count": 4,
     "metadata": {},
     "output_type": "execute_result"
    }
   ],
   "source": [
    "a.pop(1)"
   ]
  },
  {
   "cell_type": "code",
   "execution_count": 5,
   "metadata": {},
   "outputs": [
    {
     "data": {
      "text/plain": [
       "[1, 2, 3, 4]"
      ]
     },
     "execution_count": 5,
     "metadata": {},
     "output_type": "execute_result"
    }
   ],
   "source": [
    "a"
   ]
  },
  {
   "cell_type": "code",
   "execution_count": 6,
   "metadata": {},
   "outputs": [
    {
     "data": {
      "text/plain": [
       "3"
      ]
     },
     "execution_count": 6,
     "metadata": {},
     "output_type": "execute_result"
    }
   ],
   "source": [
    "a.pop(2)"
   ]
  },
  {
   "cell_type": "code",
   "execution_count": 7,
   "metadata": {},
   "outputs": [
    {
     "data": {
      "text/plain": [
       "[1, 2, 4]"
      ]
     },
     "execution_count": 7,
     "metadata": {},
     "output_type": "execute_result"
    }
   ],
   "source": [
    "a"
   ]
  },
  {
   "cell_type": "code",
   "execution_count": 20,
   "metadata": {},
   "outputs": [],
   "source": [
    "def removeDuplicates(nums):\n",
    "        \"\"\"\n",
    "        :type nums: List[int]\n",
    "        :rtype: int\n",
    "        \"\"\"\n",
    "        if len(nums) <= 1:\n",
    "            return len(nums)\n",
    "        \n",
    "        i = 0\n",
    "        while (i < len(nums)) and (len(nums) > 1):\n",
    "            if nums[i] == nums[i-1]:\n",
    "                nums.pop(i)\n",
    "            else:\n",
    "                i += 1\n",
    "        return len(nums)"
   ]
  },
  {
   "cell_type": "code",
   "execution_count": 23,
   "metadata": {},
   "outputs": [
    {
     "data": {
      "text/plain": [
       "1"
      ]
     },
     "execution_count": 23,
     "metadata": {},
     "output_type": "execute_result"
    }
   ],
   "source": [
    "removeDuplicates([1,1])"
   ]
  },
  {
   "cell_type": "code",
   "execution_count": null,
   "metadata": {},
   "outputs": [],
   "source": [
    "def removeDuplicates(nums):\n",
    "        \"\"\"\n",
    "        :type nums: List[int]\n",
    "        :rtype: int\n",
    "        \"\"\"\n",
    "        if len(nums) <= 1:\n",
    "            return len(nums)\n",
    "        \n",
    "        if nums[-1] == nums[-2]:\n",
    "            \n",
    "        return len(nums)"
   ]
  },
  {
   "cell_type": "code",
   "execution_count": 24,
   "metadata": {},
   "outputs": [],
   "source": [
    "def removeElement(nums, val):\n",
    "    \"\"\"\n",
    "    :type nums: List[int]\n",
    "    :type val: int\n",
    "    :rtype: int\n",
    "    \"\"\"\n",
    "    i = 0\n",
    "    while (i < len(nums)):\n",
    "        if nums[i] == val:\n",
    "            nums.pop(i)\n",
    "        else:\n",
    "            i += 1\n",
    "    return len(nums)"
   ]
  },
  {
   "cell_type": "code",
   "execution_count": 28,
   "metadata": {},
   "outputs": [
    {
     "data": {
      "text/plain": [
       "4"
      ]
     },
     "execution_count": 28,
     "metadata": {},
     "output_type": "execute_result"
    }
   ],
   "source": [
    "removeElement([1,2,3,4,5,5],5)"
   ]
  },
  {
   "cell_type": "code",
   "execution_count": 29,
   "metadata": {},
   "outputs": [
    {
     "data": {
      "text/plain": [
       "True"
      ]
     },
     "execution_count": 29,
     "metadata": {},
     "output_type": "execute_result"
    }
   ],
   "source": [
    "'ll' in 'hello'"
   ]
  },
  {
   "cell_type": "code",
   "execution_count": 3,
   "metadata": {},
   "outputs": [],
   "source": [
    "def searchInsert(nums, target):\n",
    "        \"\"\"\n",
    "        :type nums: List[int]\n",
    "        :type target: int\n",
    "        :rtype: int\n",
    "        \"\"\"\n",
    "        index = -1\n",
    "        for i in range(len(nums)):\n",
    "            if (index == -1) and (nums[i] > target):\n",
    "                index = i\n",
    "        if index == -1:\n",
    "            return len(nums)\n",
    "        elif index == 0:\n",
    "            return 0\n",
    "        else:\n",
    "            return index - 1      \n",
    "        "
   ]
  },
  {
   "cell_type": "code",
   "execution_count": 34,
   "metadata": {},
   "outputs": [],
   "source": [
    "def maxSubArray(nums):\n",
    "    \"\"\"\n",
    "    :type nums: List[int]\n",
    "    :rtype: int\n",
    "    \"\"\"\n",
    "    c = np.float('-inf')\n",
    "    g = np.float('-inf')\n",
    "    for i in nums:\n",
    "        if i > c + i:\n",
    "            c = i\n",
    "        else:\n",
    "            c = i + c\n",
    "        if c > g:\n",
    "            g = c\n",
    "    return g"
   ]
  },
  {
   "cell_type": "code",
   "execution_count": 35,
   "metadata": {},
   "outputs": [
    {
     "data": {
      "text/plain": [
       "6"
      ]
     },
     "execution_count": 35,
     "metadata": {},
     "output_type": "execute_result"
    }
   ],
   "source": [
    "maxSubArray([-2,1,-3,4,-1,2,1,-5,4])"
   ]
  },
  {
   "cell_type": "code",
   "execution_count": 2,
   "metadata": {},
   "outputs": [],
   "source": [
    "def addTwoNumbers(l1, l2):\n",
    "    \"\"\"\n",
    "    :type l1: ListNode\n",
    "    :type l2: ListNode\n",
    "    :rtype: ListNode\n",
    "    \"\"\"\n",
    "    l1_lst = []\n",
    "    while l1 is not None:\n",
    "        this_num = l1.val\n",
    "        l1 = l1.next\n",
    "        l1_lst = [this_num] + l1_lst\n",
    "    first_num = ''.join(l1_lst)\n",
    "    \n",
    "    l2_lst = []\n",
    "    while l2 is not None:\n",
    "        this_num = l2.val\n",
    "        l2 = l2.next\n",
    "        l2_lst = [this_num] + l2_lst\n",
    "    second_num = ''.join(l2_lst)\n",
    "    \n",
    "    return int(first_num) + int(second_num)"
   ]
  },
  {
   "cell_type": "code",
   "execution_count": 20,
   "metadata": {},
   "outputs": [],
   "source": [
    "def lengthOfLongestSubstring(s): \n",
    "    i = 0\n",
    "    j = 0\n",
    "    \n",
    "    c = 0\n",
    "    g = 0\n",
    "    \n",
    "    while j < len(s):\n",
    "        curr = s[i:j]\n",
    "        if s[j] not in curr:\n",
    "            j += 1\n",
    "        else:\n",
    "            while s[i] != s[j]:\n",
    "                i += 1\n",
    "            i += 1\n",
    "        c = len(s[i:j])\n",
    "        \n",
    "        if c > g:\n",
    "            g = c\n",
    "#     print(i, j)\n",
    "    return g"
   ]
  },
  {
   "cell_type": "code",
   "execution_count": 21,
   "metadata": {},
   "outputs": [
    {
     "data": {
      "text/plain": [
       "1"
      ]
     },
     "execution_count": 21,
     "metadata": {},
     "output_type": "execute_result"
    }
   ],
   "source": [
    "lengthOfLongestSubstring(\"bbbbb\")"
   ]
  },
  {
   "cell_type": "code",
   "execution_count": 2,
   "metadata": {},
   "outputs": [
    {
     "data": {
      "text/plain": [
       "[1, 2, 3]"
      ]
     },
     "execution_count": 2,
     "metadata": {},
     "output_type": "execute_result"
    }
   ],
   "source": [
    "a = [1,2,3]\n",
    "sorted(a)"
   ]
  },
  {
   "cell_type": "code",
   "execution_count": 3,
   "metadata": {},
   "outputs": [
    {
     "data": {
      "text/plain": [
       "[1, 2, 3]"
      ]
     },
     "execution_count": 3,
     "metadata": {},
     "output_type": "execute_result"
    }
   ],
   "source": [
    "a"
   ]
  },
  {
   "cell_type": "code",
   "execution_count": 6,
   "metadata": {},
   "outputs": [],
   "source": [
    "def TwoSum(lst, target):\n",
    "    record = []\n",
    "    for k in range(len(lst) - 1):\n",
    "        need = target - lst[k]\n",
    "        if need in lst[k+1:]:\n",
    "            record.append([lst[k], need])\n",
    "    return record"
   ]
  },
  {
   "cell_type": "code",
   "execution_count": 7,
   "metadata": {},
   "outputs": [
    {
     "data": {
      "text/plain": [
       "[[1, 0], [-1, 2], [3, -2], [4, -3]]"
      ]
     },
     "execution_count": 7,
     "metadata": {},
     "output_type": "execute_result"
    }
   ],
   "source": [
    "TwoSum([1,0,-1,2,3,4,-2,-3], 1)"
   ]
  },
  {
   "cell_type": "code",
   "execution_count": 9,
   "metadata": {},
   "outputs": [],
   "source": [
    "a = [1,0,-1,2,3,4,-2,-3]"
   ]
  },
  {
   "cell_type": "code",
   "execution_count": 10,
   "metadata": {},
   "outputs": [
    {
     "data": {
      "text/plain": [
       "0"
      ]
     },
     "execution_count": 10,
     "metadata": {},
     "output_type": "execute_result"
    }
   ],
   "source": [
    "a.pop(1)"
   ]
  },
  {
   "cell_type": "code",
   "execution_count": 15,
   "metadata": {},
   "outputs": [],
   "source": [
    "b = [[1, 0], [-1, 2], [3, -2], [4, -3]]"
   ]
  },
  {
   "cell_type": "code",
   "execution_count": 16,
   "metadata": {},
   "outputs": [
    {
     "data": {
      "text/plain": [
       "[(3, [1, 0])]"
      ]
     },
     "execution_count": 16,
     "metadata": {},
     "output_type": "execute_result"
    }
   ],
   "source": [
    "list(zip([3], b))"
   ]
  },
  {
   "cell_type": "code",
   "execution_count": 58,
   "metadata": {},
   "outputs": [],
   "source": [
    "def threeSum(nums):\n",
    "    \"\"\"\n",
    "    :type nums: List[int]\n",
    "    :rtype: List[List[int]]\n",
    "    \"\"\"\n",
    "    if len(nums) < 3:\n",
    "        return []\n",
    "    \n",
    "    \n",
    "    def TwoSum(lst, target):\n",
    "        record = []\n",
    "        for k in range(len(lst) - 1):\n",
    "            need = target - lst[k]\n",
    "            if need in lst[k+1:]:\n",
    "                record.append([lst[k], need])\n",
    "        return record\n",
    "            \n",
    "            \n",
    "    store = []\n",
    "    for i in range(len(nums)):\n",
    "        a = nums.copy()\n",
    "        target = 0 - nums[i]\n",
    "        a.pop(i)\n",
    "        r = TwoSum(a, target)\n",
    "        r_ = [l+[nums[i]] for l in r]\n",
    "        store += r_\n",
    "    \n",
    "    store = [sorted(i) for i in store]\n",
    "    unique_list = []\n",
    "    for sub in store:\n",
    "        if sub not in unique_list:\n",
    "            unique_list.append(sub)\n",
    "    return unique_list"
   ]
  },
  {
   "cell_type": "code",
   "execution_count": 59,
   "metadata": {},
   "outputs": [],
   "source": [
    "t = threeSum([-1, 0, 2])"
   ]
  },
  {
   "cell_type": "code",
   "execution_count": 60,
   "metadata": {},
   "outputs": [
    {
     "data": {
      "text/plain": [
       "[]"
      ]
     },
     "execution_count": 60,
     "metadata": {},
     "output_type": "execute_result"
    }
   ],
   "source": [
    "t"
   ]
  },
  {
   "cell_type": "code",
   "execution_count": 43,
   "metadata": {},
   "outputs": [
    {
     "data": {
      "text/plain": [
       "[[-1, 0, 1],\n",
       " [-1, -1, 2],\n",
       " [-1, 0, 1],\n",
       " [-1, 0, 1],\n",
       " [-1, 0, 1],\n",
       " [-1, 0, 1],\n",
       " [-1, -1, 2],\n",
       " [-1, -1, 2],\n",
       " [-1, 0, 1]]"
      ]
     },
     "execution_count": 43,
     "metadata": {},
     "output_type": "execute_result"
    }
   ],
   "source": [
    "[sorted(i) for i in t]"
   ]
  },
  {
   "cell_type": "code",
   "execution_count": 45,
   "metadata": {},
   "outputs": [
    {
     "data": {
      "text/plain": [
       "[[0, 1, -1],\n",
       " [2, -1, -1],\n",
       " [-1, 1, 0],\n",
       " [1, -1, 0],\n",
       " [-1, 0, 1],\n",
       " [0, -1, 1],\n",
       " [-1, -1, 2],\n",
       " [-1, 2, -1],\n",
       " [0, 1, -1]]"
      ]
     },
     "execution_count": 45,
     "metadata": {},
     "output_type": "execute_result"
    }
   ],
   "source": [
    "t"
   ]
  },
  {
   "cell_type": "code",
   "execution_count": 27,
   "metadata": {},
   "outputs": [
    {
     "data": {
      "text/plain": [
       "True"
      ]
     },
     "execution_count": 27,
     "metadata": {},
     "output_type": "execute_result"
    }
   ],
   "source": [
    "set([0,1,-1]) == set([1,0,-1])"
   ]
  },
  {
   "cell_type": "code",
   "execution_count": 35,
   "metadata": {},
   "outputs": [
    {
     "data": {
      "text/plain": [
       "False"
      ]
     },
     "execution_count": 35,
     "metadata": {},
     "output_type": "execute_result"
    }
   ],
   "source": [
    "(0,1,-1) == (0,-1,1)"
   ]
  },
  {
   "cell_type": "code",
   "execution_count": 38,
   "metadata": {},
   "outputs": [],
   "source": [
    "def threeSum(nums):\n",
    "    n = len(nums)\n",
    "    store = []\n",
    "    for i in range(n - 2):\n",
    "        first_number = nums[i]\n",
    "        for k in range(i + 1, n - 1):\n",
    "            second_number = nums[k]\n",
    "            for g in range(k + 1, n):\n",
    "                third_number = nums[g]\n",
    "                if first_number + second_number + third_number == 0:\n",
    "                    store.append([first_number, second_number, third_number])\n",
    "    return store"
   ]
  },
  {
   "cell_type": "code",
   "execution_count": 39,
   "metadata": {},
   "outputs": [
    {
     "data": {
      "text/plain": [
       "[[-1, 0, 1], [-1, 2, -1], [0, 1, -1]]"
      ]
     },
     "execution_count": 39,
     "metadata": {},
     "output_type": "execute_result"
    }
   ],
   "source": [
    "threeSum([-1, 0, 1, 2, -1, -4])"
   ]
  },
  {
   "cell_type": "code",
   "execution_count": 61,
   "metadata": {},
   "outputs": [],
   "source": [
    "import copy"
   ]
  },
  {
   "cell_type": "code",
   "execution_count": 16,
   "metadata": {},
   "outputs": [],
   "source": [
    "a = \" a\""
   ]
  },
  {
   "cell_type": "code",
   "execution_count": 17,
   "metadata": {},
   "outputs": [
    {
     "data": {
      "text/plain": [
       "['', 'a']"
      ]
     },
     "execution_count": 17,
     "metadata": {},
     "output_type": "execute_result"
    }
   ],
   "source": [
    "a.split(' ')"
   ]
  },
  {
   "cell_type": "code",
   "execution_count": 29,
   "metadata": {},
   "outputs": [],
   "source": [
    "def lengthOfLastWord(s):\n",
    "    \"\"\"\n",
    "    :type s: str\n",
    "    :rtype: int\n",
    "    \"\"\"\n",
    "    last_word = None\n",
    "    s_lst = s.split(' ')\n",
    "    for i in s_lst[::-1]:\n",
    "        if i != ' ' and i != '':\n",
    "            last_word = i\n",
    "            break\n",
    "    if last_word is None:\n",
    "        return 0\n",
    "    return len(last_word)"
   ]
  },
  {
   "cell_type": "code",
   "execution_count": 30,
   "metadata": {},
   "outputs": [
    {
     "data": {
      "text/plain": [
       "3"
      ]
     },
     "execution_count": 30,
     "metadata": {},
     "output_type": "execute_result"
    }
   ],
   "source": [
    "lengthOfLastWord(\"Today is a nice day\")"
   ]
  },
  {
   "cell_type": "code",
   "execution_count": 36,
   "metadata": {},
   "outputs": [],
   "source": [
    "def isSameTree(p, q):\n",
    "        \"\"\"\n",
    "        :type p: TreeNode\n",
    "        :type q: TreeNode\n",
    "        :rtype: bool\n",
    "        \"\"\"\n",
    "        def recur(p,q):\n",
    "            # Base case\n",
    "            if q is None and p is None:\n",
    "                return True\n",
    "            elif q is None and p is not None:\n",
    "                return False\n",
    "            elif q is not None and p is None:\n",
    "                return False\n",
    "            else:\n",
    "                if p.val != q.val:\n",
    "                    return False\n",
    "                else:\n",
    "                    return (recur(p.left, q.left) and recur(p.right, q.right))\n",
    "        return recur(p,q)"
   ]
  },
  {
   "cell_type": "code",
   "execution_count": 37,
   "metadata": {},
   "outputs": [],
   "source": [
    "class TreeNode(object):\n",
    "    def __init__(self, val=0, left=None, right=None):\n",
    "        self.val = val\n",
    "        self.left = left\n",
    "        self.right = right"
   ]
  },
  {
   "cell_type": "code",
   "execution_count": 38,
   "metadata": {},
   "outputs": [],
   "source": [
    "a1 = TreeNode(1)\n",
    "a2 = TreeNode(2)\n",
    "a3 = TreeNode(3)\n",
    "a1.left = a2\n",
    "a1.right = a3"
   ]
  },
  {
   "cell_type": "code",
   "execution_count": 39,
   "metadata": {},
   "outputs": [],
   "source": [
    "b1 = TreeNode(1)\n",
    "b2 = TreeNode(2)\n",
    "b3 = TreeNode(3)\n",
    "b1.left = b2\n",
    "b1.right = b3"
   ]
  },
  {
   "cell_type": "code",
   "execution_count": 40,
   "metadata": {},
   "outputs": [
    {
     "data": {
      "text/plain": [
       "True"
      ]
     },
     "execution_count": 40,
     "metadata": {},
     "output_type": "execute_result"
    }
   ],
   "source": [
    "isSameTree(a1, b1)"
   ]
  },
  {
   "cell_type": "code",
   "execution_count": 30,
   "metadata": {},
   "outputs": [],
   "source": [
    "def thousandSeparator(n):\n",
    "    \"\"\"\n",
    "    :type n: int\n",
    "    :rtype: str\n",
    "    \"\"\"\n",
    "    if n == 0:\n",
    "        return '0'\n",
    "    store = []\n",
    "    while n != 0:\n",
    "        remain = n%1000\n",
    "        store  = [remain] + store\n",
    "        n = n//1000\n",
    "    store = [str(i) for i in store]\n",
    "    store[1:] = [i.zfill(3) for i in store[1:]]\n",
    "    return_lst = []\n",
    "    for i in store:\n",
    "        return_lst.append(i)\n",
    "        return_lst.append('.')\n",
    "        \n",
    "    return ''.join(return_lst[:-1])"
   ]
  },
  {
   "cell_type": "code",
   "execution_count": 35,
   "metadata": {},
   "outputs": [
    {
     "data": {
      "text/plain": [
       "'12.312.578.235.091'"
      ]
     },
     "execution_count": 35,
     "metadata": {},
     "output_type": "execute_result"
    }
   ],
   "source": [
    "thousandSeparator(12312578235091)"
   ]
  },
  {
   "cell_type": "code",
   "execution_count": 10,
   "metadata": {},
   "outputs": [
    {
     "data": {
      "text/plain": [
       "array([7, 5, 3, 1])"
      ]
     },
     "execution_count": 10,
     "metadata": {},
     "output_type": "execute_result"
    }
   ],
   "source": [
    "np.arange(7, 0, -2)"
   ]
  },
  {
   "cell_type": "code",
   "execution_count": 36,
   "metadata": {},
   "outputs": [
    {
     "data": {
      "text/plain": [
       "array([ 1,  3,  6, 10])"
      ]
     },
     "execution_count": 36,
     "metadata": {},
     "output_type": "execute_result"
    }
   ],
   "source": [
    "np.cumsum([1,2,3,4])"
   ]
  },
  {
   "cell_type": "code",
   "execution_count": 39,
   "metadata": {},
   "outputs": [],
   "source": [
    "def cumsum(n):\n",
    "    return_lst = []\n",
    "    for i in range(1, len(n) + 1):\n",
    "        return_lst.append(sum(n[:i]))\n",
    "    return return_lst"
   ]
  },
  {
   "cell_type": "code",
   "execution_count": 40,
   "metadata": {},
   "outputs": [
    {
     "data": {
      "text/plain": [
       "[1, 3, 6, 10]"
      ]
     },
     "execution_count": 40,
     "metadata": {},
     "output_type": "execute_result"
    }
   ],
   "source": [
    "cumsum([1,2,3,4])"
   ]
  },
  {
   "cell_type": "code",
   "execution_count": 2,
   "metadata": {},
   "outputs": [],
   "source": [
    "A = [1,2,3,4]"
   ]
  },
  {
   "cell_type": "code",
   "execution_count": 3,
   "metadata": {},
   "outputs": [],
   "source": [
    "A.remove(2)"
   ]
  },
  {
   "cell_type": "code",
   "execution_count": 4,
   "metadata": {},
   "outputs": [
    {
     "data": {
      "text/plain": [
       "[1, 3, 4]"
      ]
     },
     "execution_count": 4,
     "metadata": {},
     "output_type": "execute_result"
    }
   ],
   "source": [
    "A"
   ]
  },
  {
   "cell_type": "code",
   "execution_count": 18,
   "metadata": {},
   "outputs": [],
   "source": [
    "def largestTimeFromDigits(A):\n",
    "        \"\"\"\n",
    "        :type A: List[int]\n",
    "        :rtype: str\n",
    "        \"\"\"\n",
    "        result = ''\n",
    "        A.sort()\n",
    "        index_2 = -1\n",
    "        index_3 = -1\n",
    "        for i in range(len(A)):\n",
    "            if A[i] > 2 and index_2 == -1:\n",
    "                index_2 = i\n",
    "            if A[i] == 3:\n",
    "                index_3 = i\n",
    "                \n",
    "        if index_3 != -1:\n",
    "            less_than_two = A[:index_2]\n",
    "            three = A[index_2:index_3 + 1]\n",
    "            larger_three = A[index_3 + 1:]\n",
    "            \n",
    "        else:\n",
    "            less_than_two = A[:index_2]\n",
    "            larger_three = A[index_2:]\n",
    "            three = []\n",
    "        print(less_than_two)\n",
    "        print(three)\n",
    "        print(larger_three)\n",
    "        \n",
    "        # First\n",
    "        if less_than_two == []:\n",
    "            return ''\n",
    "        elif 2 in less_than_two:\n",
    "            result += '2'\n",
    "            less_than_two.remove(2)\n",
    "        elif 1 in less_than_two:\n",
    "            result += '1'\n",
    "            less_than_two.remove(1)\n",
    "            \n",
    "        # Second\n",
    "        if result[0] == '2':\n",
    "            result += \n",
    "        return result"
   ]
  },
  {
   "cell_type": "code",
   "execution_count": 19,
   "metadata": {},
   "outputs": [
    {
     "name": "stdout",
     "output_type": "stream",
     "text": [
      "[1, 2]\n",
      "[3]\n",
      "[4]\n"
     ]
    },
    {
     "data": {
      "text/plain": [
       "'2'"
      ]
     },
     "execution_count": 19,
     "metadata": {},
     "output_type": "execute_result"
    }
   ],
   "source": [
    "largestTimeFromDigits([1,2,3,4])"
   ]
  },
  {
   "cell_type": "code",
   "execution_count": 9,
   "metadata": {},
   "outputs": [],
   "source": [
    "A = [4,2,3]"
   ]
  },
  {
   "cell_type": "code",
   "execution_count": 10,
   "metadata": {},
   "outputs": [],
   "source": [
    "A.sort()"
   ]
  },
  {
   "cell_type": "code",
   "execution_count": 21,
   "metadata": {},
   "outputs": [
    {
     "data": {
      "text/plain": [
       "2"
      ]
     },
     "execution_count": 21,
     "metadata": {},
     "output_type": "execute_result"
    }
   ],
   "source": [
    "min(A)\n"
   ]
  },
  {
   "cell_type": "code",
   "execution_count": null,
   "metadata": {},
   "outputs": [],
   "source": [
    "for i in range(len(A)):\n",
    "    if A[i] > 2 and \n",
    "    "
   ]
  },
  {
   "cell_type": "code",
   "execution_count": 29,
   "metadata": {},
   "outputs": [],
   "source": [
    "def reformat(s):\n",
    "    \"\"\"\n",
    "    :type s: str\n",
    "    :rtype: str\n",
    "    \"\"\"\n",
    "    digit = []\n",
    "    letter = []\n",
    "    for i in s:\n",
    "        if i.isdigit():\n",
    "            digit.append(i)\n",
    "        else:\n",
    "            letter.append(i)\n",
    "    if abs(len(letter) - len(digit)) > 1:\n",
    "        return ''\n",
    "    \n",
    "    smaller = min(len(letter), len(digit))\n",
    "    result = []\n",
    "    count = 0\n",
    "    for i in range(smaller):\n",
    "        l = letter[count]\n",
    "        d = digit[count]\n",
    "        result.append(l)\n",
    "        result.append(d)\n",
    "        count += 1\n",
    "    if count != len(letter):\n",
    "        result.append(letter[-1])\n",
    "    if count != len(digit):\n",
    "        result = [digit[-1]] + result\n",
    "    return ''.join(result)"
   ]
  },
  {
   "cell_type": "code",
   "execution_count": 33,
   "metadata": {},
   "outputs": [
    {
     "data": {
      "text/plain": [
       "'a1a1b2'"
      ]
     },
     "execution_count": 33,
     "metadata": {},
     "output_type": "execute_result"
    }
   ],
   "source": [
    "reformat('11aab2')"
   ]
  },
  {
   "cell_type": "code",
   "execution_count": 25,
   "metadata": {},
   "outputs": [
    {
     "data": {
      "text/plain": [
       "False"
      ]
     },
     "execution_count": 25,
     "metadata": {},
     "output_type": "execute_result"
    }
   ],
   "source": [
    "'a'.isdigit()"
   ]
  },
  {
   "cell_type": "code",
   "execution_count": 10,
   "metadata": {},
   "outputs": [
    {
     "data": {
      "text/plain": [
       "1"
      ]
     },
     "execution_count": 10,
     "metadata": {},
     "output_type": "execute_result"
    }
   ],
   "source": [
    "(set([1,2,3]) - set([2])).pop()"
   ]
  },
  {
   "cell_type": "code",
   "execution_count": 24,
   "metadata": {},
   "outputs": [],
   "source": [
    "def generate(numRows):\n",
    "    if numRows == 1:\n",
    "        return [[1]]\n",
    "    if numRows == 2:\n",
    "        return [[1],[1,1]]\n",
    "    result = [[1],[1,1]]\n",
    "    for i in range(1, numRows - 1):\n",
    "        init = [1] + [0] * i + [1]\n",
    "        result.append(init)\n",
    "        hangshu = i + 1\n",
    "        for k in range(1, len(init) - 1):\n",
    "            init[k] = result[hangshu - 1][k - 1] + result[hangshu - 1][k]\n",
    "    return result\n",
    "    \n"
   ]
  },
  {
   "cell_type": "code",
   "execution_count": 27,
   "metadata": {},
   "outputs": [
    {
     "data": {
      "text/plain": [
       "[[1], [1, 1], [1, 2, 1], [1, 3, 3, 1], [1, 4, 6, 4, 1]]"
      ]
     },
     "execution_count": 27,
     "metadata": {},
     "output_type": "execute_result"
    }
   ],
   "source": [
    "generate(5)"
   ]
  },
  {
   "cell_type": "code",
   "execution_count": 28,
   "metadata": {},
   "outputs": [],
   "source": [
    "def addBinary(a, b):\n",
    "    \"\"\"\n",
    "    :type a: str\n",
    "    :type b: str\n",
    "    :rtype: str\n",
    "    \"\"\"\n",
    "    a = [i for i in a][::-1]\n",
    "    b = [i for i in b][::-1]\n",
    "    num_a = 0\n",
    "    num_b = 0\n",
    "    for i in range(len(a)):\n",
    "        if a[i] == '1':\n",
    "            num_a += 2 ** (i)\n",
    "\n",
    "    for i in range(len(b)):\n",
    "        if b[i] == '1':\n",
    "            num_b += 2 ** (i)\n",
    "            \n",
    "    total = num_a + num_b\n",
    "#     print(total)\n",
    "    result = []\n",
    "    while total != 0:\n",
    "        r = total%2\n",
    "#         print(r)\n",
    "        total = total//2\n",
    "        result = [r] + result\n",
    "    return result"
   ]
  },
  {
   "cell_type": "code",
   "execution_count": 30,
   "metadata": {},
   "outputs": [
    {
     "data": {
      "text/plain": [
       "[1, 0, 1, 0, 1]"
      ]
     },
     "execution_count": 30,
     "metadata": {},
     "output_type": "execute_result"
    }
   ],
   "source": [
    "addBinary('1010', '1011')"
   ]
  },
  {
   "cell_type": "code",
   "execution_count": null,
   "metadata": {},
   "outputs": [],
   "source": [
    "# 514 line"
   ]
  },
  {
   "cell_type": "code",
   "execution_count": 21,
   "metadata": {},
   "outputs": [],
   "source": [
    "def wordPattern(pattern, str):\n",
    "    \"\"\"\n",
    "    :type pattern: str\n",
    "    :type str: str\n",
    "    :rtype: bool\n",
    "    \"\"\"\n",
    "    # 预处理str\n",
    "    str_ = str.split(' ')\n",
    "    if len(str_) != len(pattern):\n",
    "        return False\n",
    "    \n",
    "    # 第一步 read pattern，存在一个dict里\n",
    "    d = dict()\n",
    "    for i in range(len(pattern)):\n",
    "        this = pattern[i]\n",
    "        if this not in d.keys():\n",
    "            d[this] = [i]\n",
    "        else:\n",
    "            d[this].append(i)\n",
    "       \n",
    "    values = []\n",
    "    # 检查是不是符合pattern\n",
    "    for key in d.keys():\n",
    "        indexs = d[key]\n",
    "#         print(indexs)\n",
    "#         print(key)\n",
    "        indexs = [str_[i] for i in indexs]\n",
    "        if len(set(indexs)) != 1:\n",
    "            return False\n",
    "        else:\n",
    "            values.append(str_[i])\n",
    "    if len(set(values)) != len(d.keys()):\n",
    "        return False\n",
    "        \n",
    "    return True"
   ]
  },
  {
   "cell_type": "code",
   "execution_count": 23,
   "metadata": {},
   "outputs": [
    {
     "data": {
      "text/plain": [
       "False"
      ]
     },
     "execution_count": 23,
     "metadata": {},
     "output_type": "execute_result"
    }
   ],
   "source": [
    "wordPattern('abba','dog dog dog dog')"
   ]
  },
  {
   "cell_type": "code",
   "execution_count": 29,
   "metadata": {},
   "outputs": [
    {
     "data": {
      "text/plain": [
       "{1: 5, 2: 5, 3: 5}"
      ]
     },
     "execution_count": 29,
     "metadata": {},
     "output_type": "execute_result"
    }
   ],
   "source": [
    "keys = [1,2,3]\n",
    "value = [5,5,5]\n",
    "dict(zip(keys, value))"
   ]
  },
  {
   "cell_type": "code",
   "execution_count": 73,
   "metadata": {},
   "outputs": [],
   "source": [
    "def findMedianSortedArrays(nums1, nums2):\n",
    "    \"\"\"\n",
    "    :type nums1: List[int]\n",
    "    :type nums2: List[int]\n",
    "    :rtype: float\n",
    "    \"\"\"\n",
    "    if (not nums1) or (not nums2):\n",
    "        total = nums1 + nums2\n",
    "        if (len(total)%2) == 1:\n",
    "            return total[len(total)//2]\n",
    "        else:\n",
    "            return (total[len(total)/2] + total[len(total)/2 - 1])/2\n",
    "    \n",
    "    # If none of them is empty\n",
    "    while (len(nums1) + len(nums2) > 2) and (len(nums1)!=0) and (len(nums2)!=0):\n",
    "        max_1 = nums1[-1]\n",
    "        min_1 = nums1[0]\n",
    "        max_2 = nums2[-1]\n",
    "        min_2 = nums2[0]\n",
    "        \n",
    "        if max_1 > max_2:\n",
    "            nums1.remove(max_1)\n",
    "        else:\n",
    "            nums2.remove(max_2)\n",
    "            \n",
    "        if (min_1 < min_2) and nums1:\n",
    "            nums1.remove(min_1)\n",
    "        elif (min_1 >= min_2) and nums2:\n",
    "            nums2.remove(min_2)\n",
    "        else:\n",
    "            break\n",
    "    print(nums1, nums2)\n",
    "    if (not nums1) or (not nums2):\n",
    "        return findMedianSortedArrays(nums1, nums2)\n",
    "    else:\n",
    "        return sum(nums1 + nums2)/len(nums1 + nums2)"
   ]
  },
  {
   "cell_type": "code",
   "execution_count": 74,
   "metadata": {},
   "outputs": [
    {
     "name": "stdout",
     "output_type": "stream",
     "text": [
      "[1, 1, 1] []\n"
     ]
    },
    {
     "data": {
      "text/plain": [
       "1"
      ]
     },
     "execution_count": 74,
     "metadata": {},
     "output_type": "execute_result"
    }
   ],
   "source": [
    "findMedianSortedArrays([1,1,1], [1,1,1])"
   ]
  },
  {
   "cell_type": "code",
   "execution_count": 75,
   "metadata": {},
   "outputs": [
    {
     "name": "stdout",
     "output_type": "stream",
     "text": [
      "[] [-2]\n"
     ]
    },
    {
     "data": {
      "text/plain": [
       "-2"
      ]
     },
     "execution_count": 75,
     "metadata": {},
     "output_type": "execute_result"
    }
   ],
   "source": [
    "findMedianSortedArrays([3],[-1,-2])"
   ]
  },
  {
   "cell_type": "code",
   "execution_count": 71,
   "metadata": {},
   "outputs": [
    {
     "name": "stdout",
     "output_type": "stream",
     "text": [
      "[] [2]\n"
     ]
    },
    {
     "data": {
      "text/plain": [
       "2"
      ]
     },
     "execution_count": 71,
     "metadata": {},
     "output_type": "execute_result"
    }
   ],
   "source": [
    "findMedianSortedArrays([1,3], [2])"
   ]
  },
  {
   "cell_type": "code",
   "execution_count": 49,
   "metadata": {},
   "outputs": [
    {
     "data": {
      "text/plain": [
       "[1, 2, 3, 4, 4, 5, 6, 7, 8, 9, 10]"
      ]
     },
     "execution_count": 49,
     "metadata": {},
     "output_type": "execute_result"
    }
   ],
   "source": [
    "sorted([1,3,4,6,7] + [2,4,5,8,9,10])"
   ]
  },
  {
   "cell_type": "code",
   "execution_count": 51,
   "metadata": {},
   "outputs": [
    {
     "data": {
      "text/plain": [
       "2.5"
      ]
     },
     "execution_count": 51,
     "metadata": {},
     "output_type": "execute_result"
    }
   ],
   "source": [
    "5/2"
   ]
  },
  {
   "cell_type": "code",
   "execution_count": 4,
   "metadata": {},
   "outputs": [
    {
     "data": {
      "text/plain": [
       "True"
      ]
     },
     "execution_count": 4,
     "metadata": {},
     "output_type": "execute_result"
    }
   ],
   "source": [
    "None == None"
   ]
  },
  {
   "cell_type": "code",
   "execution_count": 23,
   "metadata": {},
   "outputs": [],
   "source": [
    "def compareVersion(version1, version2):\n",
    "    \"\"\"\n",
    "    :type version1: str\n",
    "    :type version2: str\n",
    "    :rtype: int\n",
    "    \"\"\"\n",
    "    version1 = version1.split('.')\n",
    "    version2 = version2.split('.')\n",
    "\n",
    "    len_1 = len(version1)\n",
    "    len_2 = len(version2)\n",
    "    need_len = max(len_1, len_2)\n",
    "    if len_1 != need_len:\n",
    "        version1 = version1 + ['0'] * (len_2 - len_1)\n",
    "    elif len_2 != need_len:\n",
    "        version2 = version2 + ['0'] * (len_1 - len_2)\n",
    "    \n",
    "    for i in range(need_len):\n",
    "        a = version1[i]\n",
    "        b = version2[i]\n",
    "        a = int(a)\n",
    "        b = int(b)\n",
    "        if a > b:\n",
    "            return 1\n",
    "        elif a < b:\n",
    "            return -1\n",
    "    return 0"
   ]
  },
  {
   "cell_type": "code",
   "execution_count": 24,
   "metadata": {},
   "outputs": [
    {
     "data": {
      "text/plain": [
       "0"
      ]
     },
     "execution_count": 24,
     "metadata": {},
     "output_type": "execute_result"
    }
   ],
   "source": [
    "compareVersion(\"01\", '1')"
   ]
  },
  {
   "cell_type": "code",
   "execution_count": 11,
   "metadata": {},
   "outputs": [
    {
     "data": {
      "text/plain": [
       "['1', 0, 0]"
      ]
     },
     "execution_count": 11,
     "metadata": {},
     "output_type": "execute_result"
    }
   ],
   "source": [
    "'1'.split('.') + [0] * 2"
   ]
  },
  {
   "cell_type": "code",
   "execution_count": 22,
   "metadata": {},
   "outputs": [
    {
     "data": {
      "text/plain": [
       "1"
      ]
     },
     "execution_count": 22,
     "metadata": {},
     "output_type": "execute_result"
    }
   ],
   "source": [
    "int('01')"
   ]
  },
  {
   "cell_type": "code",
   "execution_count": 49,
   "metadata": {},
   "outputs": [],
   "source": [
    "def convertToTitle(n):\n",
    "    d = {1:'A', 2:'B', 3:'C', 4:'D', 5:'E', 6:'F', 7:'G', 8:'H', 9:'I', 10:'J', 11:'K', 12:'L', 13:'M', \n",
    "         14:'N', 15:'O', 16:'P', 17:'Q', 18:'R', 19:'S', 20:'T', 21:'U', 22:'V', 23:'W', 24:'X', 25:'Y', 26:'Z'}\n",
    "    first = (n-1)//26\n",
    "    second = n%26\n",
    "    coll = []\n",
    "    if first != 0:\n",
    "        coll.append(d[first])\n",
    "    coll.append(d[second])\n",
    "    return ''.join(coll)"
   ]
  },
  {
   "cell_type": "code",
   "execution_count": 3,
   "metadata": {},
   "outputs": [
    {
     "data": {
      "text/plain": [
       "4"
      ]
     },
     "execution_count": 3,
     "metadata": {},
     "output_type": "execute_result"
    }
   ],
   "source": [
    "int(19 ** 0.5)"
   ]
  },
  {
   "cell_type": "code",
   "execution_count": 14,
   "metadata": {},
   "outputs": [],
   "source": [
    "    def countPrimes(n):\n",
    "        \"\"\"\n",
    "        :type n: int\n",
    "        :rtype: int\n",
    "        \"\"\"\n",
    "        def count(n):\n",
    "            if n == 1:\n",
    "                return 0\n",
    "            if n == 2:\n",
    "                return 0\n",
    "            to_check = n-1\n",
    "            num_check = int(to_check ** 0.5)\n",
    "            find = False\n",
    "            for i in range(2, num_check + 1):\n",
    "                if to_check%i == 0:\n",
    "                    find = True\n",
    "                    break\n",
    "            if find:\n",
    "                print(to_check)\n",
    "                return count(n - 1)\n",
    "            else:\n",
    "                return 1 + count(n - 1)\n",
    "        \n",
    "        return count(n)"
   ]
  },
  {
   "cell_type": "code",
   "execution_count": 15,
   "metadata": {},
   "outputs": [
    {
     "name": "stdout",
     "output_type": "stream",
     "text": [
      "9\n",
      "8\n",
      "6\n",
      "4\n"
     ]
    },
    {
     "data": {
      "text/plain": [
       "4"
      ]
     },
     "execution_count": 15,
     "metadata": {},
     "output_type": "execute_result"
    }
   ],
   "source": [
    "countPrimes(10)"
   ]
  },
  {
   "cell_type": "code",
   "execution_count": null,
   "metadata": {},
   "outputs": [],
   "source": []
  }
 ],
 "metadata": {
  "kernelspec": {
   "display_name": "Python 3",
   "language": "python",
   "name": "python3"
  },
  "language_info": {
   "codemirror_mode": {
    "name": "ipython",
    "version": 3
   },
   "file_extension": ".py",
   "mimetype": "text/x-python",
   "name": "python",
   "nbconvert_exporter": "python",
   "pygments_lexer": "ipython3",
   "version": "3.8.5"
  }
 },
 "nbformat": 4,
 "nbformat_minor": 4
}
